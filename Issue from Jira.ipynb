{
 "cells": [
  {
   "cell_type": "code",
   "execution_count": null,
   "id": "dfd294ce-c08b-492d-950d-7d127ba0ceb5",
   "metadata": {},
   "outputs": [],
   "source": [
    "import requests\n",
    "from requests.auth import HTTPBasicAuth\n",
    "import json\n",
    "import pandas as pd"
   ]
  },
  {
   "cell_type": "code",
   "execution_count": null,
   "id": "4eb186ad-0fc3-4737-8d22-aed4ebe19e9c",
   "metadata": {},
   "outputs": [],
   "source": [
    "# Configuration\n",
    "jira_domain = 'https://forgeholidays.atlassian.net/'\n",
    "email = 'deepankar.srigyan@sykescottages.co.uk'\n",
    "project_key = 'DAB ORDER BY created DESC'\n",
    "api_token = 'ATATT3xFfGF051KEh_dStCQY8bY9DvNaKHlS7zpbnkLCuocmDJRPVqt1dshidVNFMtaydR-Gcp-Bkiq7Bjd7379q7z7fiTYQg1h4Peg8IUsv82X9OwY5NnVcdCCoBGbK6su82hrdiIY9mkCZPtKV3vID4MaqBOVKwiaiWq6KEPEx0dzCkYFfKxI=CE4E24FA'\n"
   ]
  },
  {
   "cell_type": "code",
   "execution_count": null,
   "id": "e42dd7dc-331a-4412-818a-a336e409ec50",
   "metadata": {},
   "outputs": [],
   "source": [
    "\n",
    "\n",
    "# Ensure the domain is correctly formatted\n",
    "if not jira_domain.startswith('https://'):\n",
    "    jira_domain = 'https://' + jira_domain\n",
    "\n",
    "# Jira API URL\n",
    "url = f\"{jira_domain}/rest/api/3/search\"\n",
    "\n",
    "# Query parameters\n",
    "query = {\n",
    "    'jql': f'project={project_key}',\n",
    "    'maxResults': 1000  # Adjust based on your needs\n",
    "}\n",
    "\n",
    "try:\n",
    "    # Make the request\n",
    "    response = requests.get(\n",
    "        url,\n",
    "        headers={'Content-Type': 'application/json'},\n",
    "        params=query,\n",
    "        auth=HTTPBasicAuth(email, api_token),\n",
    "        verify=False  # This is for testing; remove in production for security\n",
    "    )\n",
    "\n",
    "    # Print the full request URL (for debugging)\n",
    "    print(\"Requested URL:\", response.url)\n",
    "\n",
    "    # Check for errors\n",
    "    response.raise_for_status()\n",
    "\n",
    "    # Process the response\n",
    "    issues = response.json()['issues']\n",
    "    print(f'Total issues fetched: {len(issues)}')\n",
    "\n",
    "    # Convert issues to DataFrame\n",
    "    df_issues = pd.json_normalize(issues)  # Normalize JSON data into a flat table\n",
    "\n",
    "    # Save the DataFrame to an Excel file\n",
    "    df_issues.to_excel('jira_issues.xlsx', index=False)  # Export DataFrame to Excel file\n",
    "\n",
    "    print('Issues have been saved to jira_issues.json and jira_issues.xlsx')  # Update print statement\n",
    "\n",
    "except requests.exceptions.RequestException as e:\n",
    "    print(f'An error occurred: {e}')"
   ]
  }
 ],
 "metadata": {
  "kernelspec": {
   "display_name": "Python 3 (ipykernel)",
   "language": "python",
   "name": "python3"
  },
  "language_info": {
   "codemirror_mode": {
    "name": "ipython",
    "version": 3
   },
   "file_extension": ".py",
   "mimetype": "text/x-python",
   "name": "python",
   "nbconvert_exporter": "python",
   "pygments_lexer": "ipython3",
   "version": "3.12.2"
  }
 },
 "nbformat": 4,
 "nbformat_minor": 5
}
