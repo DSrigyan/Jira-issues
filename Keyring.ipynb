{
 "cells": [
  {
   "cell_type": "code",
   "execution_count": 3,
   "id": "628461ee-00f5-4058-85d0-a35c953ef9cd",
   "metadata": {
    "execution": {
     "iopub.execute_input": "2024-04-29T08:46:52.578007Z",
     "iopub.status.busy": "2024-04-29T08:46:52.576011Z",
     "iopub.status.idle": "2024-04-29T08:46:52.588175Z",
     "shell.execute_reply": "2024-04-29T08:46:52.586663Z",
     "shell.execute_reply.started": "2024-04-29T08:46:52.578007Z"
    }
   },
   "outputs": [],
   "source": [
    "import os\n",
    "\n",
    "# Change the current working directory\n",
    "os.chdir('C:/Users/DeepankarSrigyan/OneDrive - Sykes Cottages Ltd/Desktop/Project/')\n",
    "\n",
    "\n",
    "# Now, when you open a file without specifying a full path, Python looks in the current working directory\n",
    "with open('another_file.txt', 'w') as f:\n",
    "    f.write('This file is saved in the specified default directory.')"
   ]
  },
  {
   "cell_type": "code",
   "execution_count": 2,
   "id": "a8ac5231-88b4-4505-b08f-30dbc23a9f4f",
   "metadata": {
    "execution": {
     "iopub.execute_input": "2024-04-29T08:39:01.157744Z",
     "iopub.status.busy": "2024-04-29T08:39:01.157744Z",
     "iopub.status.idle": "2024-04-29T08:39:01.163764Z",
     "shell.execute_reply": "2024-04-29T08:39:01.163764Z",
     "shell.execute_reply.started": "2024-04-29T08:39:01.157744Z"
    }
   },
   "outputs": [
    {
     "name": "stdout",
     "output_type": "stream",
     "text": [
      "ATATT3xFfGF051KEh_dStCQY8bY9DvNaKHlS7zpbnkLCuocmDJRPVqt1dshidVNFMtaydR-Gcp-Bkiq7Bjd7379q7z7fiTYQg1h4Peg8IUsv82X9OwY5NnVcdCCoBGbK6su82hrdiIY9mkCZPtKV3vID4MaqBOVKwiaiWq6KEPEx0dzCkYFfKxI=CE4E24FA\n"
     ]
    }
   ],
   "source": [
    "import keyring\n",
    "\n",
    "# Get password from the system keyring service\n",
    "password = keyring.get_password('JIRA_API', 'deepankar.srigyan@sykescottages.co.uk')\n",
    "\n",
    "print(password)"
   ]
  },
  {
   "cell_type": "code",
   "execution_count": null,
   "id": "73507cbb-49e9-4409-9ed6-29c46f138368",
   "metadata": {},
   "outputs": [],
   "source": []
  }
 ],
 "metadata": {
  "kernelspec": {
   "display_name": "Python 3 (ipykernel)",
   "language": "python",
   "name": "python3"
  },
  "language_info": {
   "codemirror_mode": {
    "name": "ipython",
    "version": 3
   },
   "file_extension": ".py",
   "mimetype": "text/x-python",
   "name": "python",
   "nbconvert_exporter": "python",
   "pygments_lexer": "ipython3",
   "version": "3.12.2"
  }
 },
 "nbformat": 4,
 "nbformat_minor": 5
}
