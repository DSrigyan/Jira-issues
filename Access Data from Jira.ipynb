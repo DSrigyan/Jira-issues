{
 "cells": [
  {
   "cell_type": "code",
   "execution_count": 2,
   "id": "46db27b1-9660-441f-a743-2d7d2af81d80",
   "metadata": {
    "execution": {
     "iopub.execute_input": "2024-07-01T11:40:31.640361Z",
     "iopub.status.busy": "2024-07-01T11:40:31.640361Z",
     "iopub.status.idle": "2024-07-01T11:40:31.712538Z",
     "shell.execute_reply": "2024-07-01T11:40:31.712538Z",
     "shell.execute_reply.started": "2024-07-01T11:40:31.640361Z"
    }
   },
   "outputs": [],
   "source": [
    "import requests\n",
    "from requests.auth import HTTPBasicAuth\n",
    "import json\n",
    "import pandas as pd\n",
    "import keyring\n",
    "import datetime\n",
    "import os"
   ]
  },
  {
   "cell_type": "code",
   "execution_count": 3,
   "id": "ad6fd735-0df5-4480-a140-1a6df99dbf3b",
   "metadata": {
    "execution": {
     "iopub.execute_input": "2024-07-01T11:40:40.410204Z",
     "iopub.status.busy": "2024-07-01T11:40:40.410204Z",
     "iopub.status.idle": "2024-07-01T11:40:40.732106Z",
     "shell.execute_reply": "2024-07-01T11:40:40.731051Z",
     "shell.execute_reply.started": "2024-07-01T11:40:40.410204Z"
    }
   },
   "outputs": [],
   "source": [
    "jira_domain = 'https://forgeholidays.atlassian.net/'\n",
    "email = 'deepankar.srigyan@sykescottages.co.uk'\n",
    "project_key = 'DAB ORDER BY created DESC'\n",
    "\n",
    "#Credential needs to be stored in window credential before running this.\n",
    "api_token = keyring.get_password('JIRA_API', 'deepankar.srigyan@sykescottages.co.uk')\n"
   ]
  },
  {
   "cell_type": "code",
   "execution_count": 4,
   "id": "25189007-e3ca-40b4-898f-fb25da2feb1b",
   "metadata": {
    "execution": {
     "iopub.execute_input": "2024-07-01T11:40:44.836704Z",
     "iopub.status.busy": "2024-07-01T11:40:44.835705Z",
     "iopub.status.idle": "2024-07-01T11:40:44.841209Z",
     "shell.execute_reply": "2024-07-01T11:40:44.839946Z",
     "shell.execute_reply.started": "2024-07-01T11:40:44.836704Z"
    }
   },
   "outputs": [],
   "source": [
    "import datetime\n",
    "from datetime import date"
   ]
  },
  {
   "cell_type": "code",
   "execution_count": 5,
   "id": "81877b75-0cfe-4051-b043-6f3b39bb13bf",
   "metadata": {
    "execution": {
     "iopub.execute_input": "2024-07-01T11:40:47.241494Z",
     "iopub.status.busy": "2024-07-01T11:40:47.241494Z",
     "iopub.status.idle": "2024-07-01T11:40:47.246040Z",
     "shell.execute_reply": "2024-07-01T11:40:47.245021Z",
     "shell.execute_reply.started": "2024-07-01T11:40:47.241494Z"
    }
   },
   "outputs": [],
   "source": [
    "today = date.today()\n",
    "date_prefix = today.strftime(\"%Y%m%d\")  # Format the date as YYYYMMDD\n"
   ]
  },
  {
   "cell_type": "markdown",
   "id": "ec8aad7c-013a-4be4-801d-cb150e24fb83",
   "metadata": {},
   "source": [
    "#### Working without loop"
   ]
  },
  {
   "cell_type": "markdown",
   "id": "10edfb05-76e9-4386-ada3-a706a02dbaf8",
   "metadata": {
    "jp-MarkdownHeadingCollapsed": true
   },
   "source": [
    "#### Doesn't loop"
   ]
  },
  {
   "cell_type": "code",
   "execution_count": 20,
   "id": "8cfb1b7e-8e0a-407f-b3f3-80ea4436c246",
   "metadata": {
    "execution": {
     "iopub.execute_input": "2024-05-01T09:50:12.222648Z",
     "iopub.status.busy": "2024-05-01T09:50:12.222648Z",
     "iopub.status.idle": "2024-05-01T09:50:16.432170Z",
     "shell.execute_reply": "2024-05-01T09:50:16.428616Z",
     "shell.execute_reply.started": "2024-05-01T09:50:12.222648Z"
    }
   },
   "outputs": [
    {
     "name": "stdout",
     "output_type": "stream",
     "text": [
      "Requested URL: https://forgeholidays.atlassian.net//rest/api/3/search?jql=project%3DDAB+ORDER+BY+created+DESC&maxResults=10000\n",
      "Total issues fetched: 100\n",
      "Issues have been saved to jira_issues.json and jira_issues.xlsx\n"
     ]
    }
   ],
   "source": [
    "# path correction\n",
    "if not jira_domain.startswith('https://'):\n",
    "    jira_domain = 'https://' + jira_domain\n",
    "\n",
    "# Create Jira API URL\n",
    "url = f\"{jira_domain}/rest/api/3/search\"\n",
    "\n",
    "# Query \n",
    "query = {\n",
    "    'jql': f'project={project_key}',\n",
    "    'maxResults': 10000  # Adjust based on your needs\n",
    "}\n",
    "\n",
    "try:\n",
    "    # request\n",
    "    response = requests.get(\n",
    "        url,\n",
    "        headers={'Content-Type': 'application/json'},\n",
    "        params=query,\n",
    "        auth=HTTPBasicAuth(email, api_token),\n",
    "        verify=True  # SSL security off, need to work with IT so we do not need to do it False\n",
    "    )\n",
    "\n",
    "    # request URL (for debugging)\n",
    "    print(\"Requested URL:\", response.url)\n",
    "\n",
    "    # errors\n",
    "    response.raise_for_status()\n",
    "\n",
    "    # Process the response\n",
    "    issues = response.json()['issues']\n",
    "    print(f'Total issues fetched: {len(issues)}')\n",
    "\n",
    "    # Convert to DataFrame\n",
    "    df_issues = pd.json_normalize(issues)  # JSON data into a  table\n",
    "\n",
    "    \n",
    "    # Construct the file name with the date prefix\n",
    "    path = r\"C:\\Users\\DeepankarSrigyan\\OneDrive - Sykes Cottages Ltd\\Documents - Data & Analytics\\Insight team\\1. Admin\\4. Internal reporting\"\n",
    "    # file_name = f\"{date_prefix}_jira_issues.xlsx\"\n",
    "    file_name = os.path.join(path, f\"{date_prefix}_jira_issues.csv\")\n",
    "\n",
    "    # Save the DataFrame to an Excel file\n",
    "    df_issues.to_csv(file_name, index=False)\n",
    "\n",
    "    # Save to an Excel file\n",
    "    # df_issues.to_excel('jira_issues.xlsx', index=False)  \n",
    "\n",
    "    print('Issues have been saved to jira_issues.json and jira_issues.xlsx')  # Update print statement\n",
    "\n",
    "except requests.exceptions.RequestException as e:\n",
    "    print(f'An error occurred: {e}')"
   ]
  },
  {
   "cell_type": "markdown",
   "id": "e7aa8d36-68e3-4c15-97e0-f8911304bc20",
   "metadata": {},
   "source": [
    "#### Take the data in loop, pagination"
   ]
  },
  {
   "cell_type": "code",
   "execution_count": 6,
   "id": "c9928e92-fdc5-4d72-acb3-dae66bd05a66",
   "metadata": {
    "execution": {
     "iopub.execute_input": "2024-07-01T11:40:52.907722Z",
     "iopub.status.busy": "2024-07-01T11:40:52.907722Z",
     "iopub.status.idle": "2024-07-01T11:40:53.380209Z",
     "shell.execute_reply": "2024-07-01T11:40:53.378695Z",
     "shell.execute_reply.started": "2024-07-01T11:40:52.907722Z"
    }
   },
   "outputs": [
    {
     "name": "stdout",
     "output_type": "stream",
     "text": [
      "An error occurred: 400 Client Error: Bad Request for url: https://forgeholidays.atlassian.net//rest/api/3/search?jql=project%3DDAB+ORDER+BY+created+DESC&startAt=0&maxResults=100\n",
      "Total issues fetched: 0\n",
      "Issues have been saved to C:\\Users\\DeepankarSrigyan\\OneDrive - Sykes Cottages Ltd\\Documents - Data & Analytics\\Insight team\\1. Admin\\4. Internal reporting\\1. Jira\\20240701_jira_issues.csv\n"
     ]
    }
   ],
   "source": [
    "import requests\n",
    "from requests.auth import HTTPBasicAuth\n",
    "import os\n",
    "import pandas as pd\n",
    "\n",
    "# Ensure the JIRA domain starts with 'https://'\n",
    "if not jira_domain.startswith('https://'):\n",
    "    jira_domain = 'https://' + jira_domain\n",
    "\n",
    "# Create JIRA API URL\n",
    "url = f\"{jira_domain}/rest/api/3/search\"\n",
    "\n",
    "# Initialize variables for pagination\n",
    "start_at = 0\n",
    "max_results = 100  # Set to the maximum typically allowed by JIRA\n",
    "total_issues_fetched = 0\n",
    "all_issues = []\n",
    "\n",
    "# Loop to fetch issues in pages\n",
    "while True:\n",
    "    query = {\n",
    "        'jql': f'project={project_key}',\n",
    "        'startAt': start_at * max_results,  # Adjusted for pagination\n",
    "        'maxResults': max_results\n",
    "    }\n",
    "\n",
    "    try:\n",
    "        response = requests.get(\n",
    "            url,\n",
    "            headers={'Content-Type': 'application/json'},\n",
    "            params=query,\n",
    "            auth=HTTPBasicAuth(email, api_token),\n",
    "            verify=True  # Consider setting this to True once SSL certificates are configured\n",
    "        )\n",
    "        response.raise_for_status()\n",
    "        response_data = response.json()\n",
    "        issues = response_data['issues']\n",
    "        all_issues.extend(issues)\n",
    "        total_issues_fetched += len(issues)\n",
    "        print(f'Fetched {len(issues)} issues, total fetched: {total_issues_fetched}')\n",
    "        if len(issues) < max_results:\n",
    "            break  # Exit the loop if the last page of issues is fetched\n",
    "        else:\n",
    "            start_at += 1  # Move to the next page\n",
    "    except requests.exceptions.RequestException as e:\n",
    "        print(f'An error occurred: {e}')\n",
    "        break\n",
    "\n",
    "# Convert to DataFrame\n",
    "df_issues = pd.json_normalize(all_issues)\n",
    "\n",
    "# Construct the file name with the date prefix\n",
    "path = r\"C:\\Users\\DeepankarSrigyan\\OneDrive - Sykes Cottages Ltd\\Documents - Data & Analytics\\Insight team\\1. Admin\\4. Internal reporting\\1. Jira\"\n",
    "file_name = os.path.join(path, f\"{date_prefix}_jira_issues.csv\")\n",
    "\n",
    "# Save the DataFrame to a CSV file\n",
    "df_issues.to_csv(file_name, index=False)\n",
    "\n",
    "print(f'Total issues fetched: {total_issues_fetched}')\n",
    "print(f'Issues have been saved to {file_name}')"
   ]
  }
 ],
 "metadata": {
  "kernelspec": {
   "display_name": "Python 3 (ipykernel)",
   "language": "python",
   "name": "python3"
  },
  "language_info": {
   "codemirror_mode": {
    "name": "ipython",
    "version": 3
   },
   "file_extension": ".py",
   "mimetype": "text/x-python",
   "name": "python",
   "nbconvert_exporter": "python",
   "pygments_lexer": "ipython3",
   "version": "3.11.0"
  }
 },
 "nbformat": 4,
 "nbformat_minor": 5
}
