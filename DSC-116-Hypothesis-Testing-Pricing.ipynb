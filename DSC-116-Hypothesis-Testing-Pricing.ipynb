{
 "cells": [
  {
   "cell_type": "markdown",
   "id": "42b89f8c",
   "metadata": {},
   "source": [
    "# Hypothesis Testing - Pricing\n",
    "\n",
    "Author: Dan E\n",
    "\n",
    "Date: 2023-07-10\n",
    "\n",
    "Description: This will test different pricing features and the impact on model performance. The following features will be tried and compared to the baseline model.\n",
    "\n",
    "* Average Price\n",
    "* Average Super Peak Price\n",
    "* Price Variance\n",
    "* Average Super Peak & Price Variance\n",
    "\n",
    "The testing will be done on a single 80:20 split.\n",
    "\n",
    "Remark: This is an older version of the model and data than is currently under development."
   ]
  },
  {
   "cell_type": "markdown",
   "id": "723396cb",
   "metadata": {},
   "source": [
    "## Imports"
   ]
  },
  {
   "cell_type": "code",
   "execution_count": 1,
   "id": "158b552d",
   "metadata": {},
   "outputs": [],
   "source": [
    "import pandas as pd\n",
    "import numpy as np\n",
    "import plotly.express as px\n",
    "import platform\n",
    "from sqlalchemy.engine import URL\n",
    "from sqlalchemy import create_engine, text\n",
    "from sklearn.model_selection import train_test_split\n",
    "import seaborn as sns\n",
    "from matplotlib import pyplot as plt\n",
    "from tqdm.notebook import tqdm\n",
    "import statsmodels.formula.api as smf\n",
    "import statsmodels.api as sm"
   ]
  },
  {
   "cell_type": "code",
   "execution_count": 2,
   "id": "a97f479e",
   "metadata": {},
   "outputs": [],
   "source": [
    "def fetch_SQLserver_data(sql_code,conn_string):\n",
    "\t\"\"\"\n",
    "\tUses pyodbc.connect and pandas.read_sql to return query results as dataframe.\n",
    "\t:param sql_code: string, query to be submitted\n",
    "\t:param conn_string: string, full connection details as string\n",
    "\t\"\"\"\n",
    "\tconnection_url = URL.create(\"mssql+pyodbc\", query={\"odbc_connect\": conn_string})\n",
    "\tengine = create_engine(connection_url)\n",
    "\twith engine.connect() as conn:\n",
    "\t\tdf = pd.read_sql(sql=text(sql_code), con=conn)\n",
    "\t\tconn.commit()\n",
    "\treturn df\n",
    "\n",
    "if platform.system() == 'Windows':\n",
    "\tconn_CDM = 'DRIVER={ODBC Driver 17 for SQL Server};SERVER=BI-DATA-PROD-02;DATABASE=CDM;trusted_connection=Yes'\n",
    "\tconn_l0 = 'DRIVER={ODBC Driver 17 for SQL Server};SERVER=BI-DATA-PROD-02;DATABASE=Sykes_DW_Level0_Staging;trusted_connection=Yes'\n",
    "\tconn_l2 = 'DRIVER={ODBC Driver 17 for SQL Server};SERVER=BI-DATA-PROD-02;DATABASE=Sykes_DW_Level2_ADM;trusted_connection=Yes'\n",
    "\tconn_BOX = 'DRIVER={ODBC Driver 17 for SQL Server};SERVER=BI-DATA-PROD-02;DATABASE=Box;trusted_connection=Yes'"
   ]
  },
  {
   "cell_type": "code",
   "execution_count": 3,
   "id": "97318dcd",
   "metadata": {},
   "outputs": [],
   "source": [
    "def get_query(_file):\n",
    "\tquery_file = open(_file,'r')\n",
    "\tquery = query_file.read()\n",
    "\tquery_file.close()\n",
    "\treturn query"
   ]
  },
  {
   "cell_type": "markdown",
   "id": "10db5bf2",
   "metadata": {},
   "source": [
    "## Data"
   ]
  },
  {
   "cell_type": "markdown",
   "id": "e19929cb",
   "metadata": {},
   "source": [
    "### Pricing"
   ]
  },
  {
   "cell_type": "code",
   "execution_count": 4,
   "id": "79e91043",
   "metadata": {},
   "outputs": [],
   "source": [
    "PRICING_SQL = get_query('data/pricing_features_raw_dev.sql')\n",
    "\n",
    "PRICING_SQL = PRICING_SQL.replace('?startdate', '2022-03-12')\n",
    "PRICING_SQL = PRICING_SQL.replace('?enddate', '2023-03-11')\n",
    "\n",
    "pricing_data = fetch_SQLserver_data(PRICING_SQL, conn_CDM)"
   ]
  },
  {
   "cell_type": "markdown",
   "id": "901dbf80",
   "metadata": {},
   "source": [
    "### Revenue"
   ]
  },
  {
   "cell_type": "code",
   "execution_count": 5,
   "id": "ddc9b51e",
   "metadata": {},
   "outputs": [],
   "source": [
    "revenue_data  = pd.read_csv('data/test_v3_nrp_2023_03_16.csv')"
   ]
  },
  {
   "cell_type": "markdown",
   "id": "04997aa9",
   "metadata": {},
   "source": [
    "### Property Features"
   ]
  },
  {
   "cell_type": "code",
   "execution_count": 6,
   "id": "c93171ef",
   "metadata": {},
   "outputs": [],
   "source": [
    "SQL_PROPERY_FEATURES = get_query('data/cdm_features_query.sql')\n",
    "\n",
    "SQL_PROPERY_FEATURES  = SQL_PROPERY_FEATURES.replace('?', '2022-03-12')\n",
    "\n",
    "property_data = fetch_SQLserver_data(SQL_PROPERY_FEATURES, conn_CDM)"
   ]
  },
  {
   "cell_type": "markdown",
   "id": "13886363",
   "metadata": {},
   "source": [
    "### Owner Occupancy"
   ]
  },
  {
   "cell_type": "markdown",
   "id": "a2a63ae9",
   "metadata": {},
   "source": [
    "### Current Model Datasets"
   ]
  },
  {
   "cell_type": "code",
   "execution_count": 7,
   "id": "4c2d8d49",
   "metadata": {},
   "outputs": [],
   "source": [
    "train_0 = pd.read_csv('cv-0-train-data-1.csv')\n",
    "test_0 = pd.read_csv('cv-0-test-data-2.csv')\n",
    "\n",
    "train_1 = pd.read_csv('cv-1-train-data-1.csv')\n",
    "test_1 = pd.read_csv('cv-1-test-data-2.csv')\n",
    "\n",
    "train_2 = pd.read_csv('cv-2-train-data-1.csv')\n",
    "test_2 = pd.read_csv('cv-2-test-data-2.csv')\n",
    "\n",
    "train_3 = pd.read_csv('cv-3-train-data-1.csv')\n",
    "test_3 = pd.read_csv('cv-3-test-data-2.csv')\n",
    "\n",
    "train_4 = pd.read_csv('cv-4-train-data-1.csv')\n",
    "test_4 = pd.read_csv('cv-4-test-data-2.csv')"
   ]
  },
  {
   "cell_type": "code",
   "execution_count": 8,
   "id": "392716e1",
   "metadata": {},
   "outputs": [],
   "source": [
    "other_0 = pd.read_csv('cv-0-test-data-1.csv')\n",
    "other_1 = pd.read_csv('cv-1-test-data-1.csv')\n",
    "other_2 = pd.read_csv('cv-2-test-data-1.csv')\n",
    "other_3 = pd.read_csv('cv-3-test-data-1.csv')\n",
    "other_4 = pd.read_csv('cv-4-test-data-1.csv')"
   ]
  },
  {
   "cell_type": "markdown",
   "id": "a7963e40",
   "metadata": {},
   "source": [
    "## Create New Features\n",
    "\n",
    "Start with calculating baseline CV model and evaluation of this model here. THe move onto using the new features to start testing the performance increase.\n",
    "\n",
    "The new features to be tested are as follows:\n",
    "\n",
    "* Average Price\n",
    "* Average Super Peak Price\n",
    "* Flat pricing (low variance pricing)\n",
    "* Price-Revenue Elasticity (where applicable)"
   ]
  },
  {
   "cell_type": "markdown",
   "id": "8b8009c5",
   "metadata": {},
   "source": [
    "###  Baseline Model"
   ]
  },
  {
   "cell_type": "code",
   "execution_count": 15,
   "id": "8af189c6",
   "metadata": {},
   "outputs": [],
   "source": [
    "from catboost import CatBoostRegressor\n",
    "from sklearn.cluster import KMeans\n",
    "\n",
    "def wape(actual,pred):\n",
    "    wape = 100*np.abs(actual - pred).sum() / actual.sum()\n",
    "    return wape\n",
    "\n",
    "def smape(actual, pred):\n",
    "    val = 100/len(actual) * np.sum(2 * np.abs(pred - actual) / (np.abs(actual) + np.abs(pred)))\n",
    "    return val\n",
    "\n",
    "model_params = {'iterations':400}\n",
    "\n",
    "initial_cat_features = ['BrandID', 'AllowsPets', 'ChangeOverDay', 'PropertyType',\n",
    "       'Rating', 'isHoneyPot', 'LocationType', \n",
    "       'WorkingRegion', 'RevenueManagementOption', 'hasBroadband', 'hasDishwasher',\n",
    "       'hasEnclosedGarden', 'hasGames', 'hasGarden', 'hasHotTub',\n",
    "       'hasIndoorPool', 'hasOffRoadParking', 'hasOpenFire', 'OwnerBookingTier',\n",
    "       'hasShortBreaksAllowed', 'hasLastMinuteBreakAllowed',\n",
    "       'OpenFireType', 'daily', 'owner_led_pricing', 'ClusterLabel']"
   ]
  },
  {
   "cell_type": "code",
   "execution_count": 17,
   "id": "bfcdc8c5",
   "metadata": {},
   "outputs": [],
   "source": [
    "model = CatBoostRegressor(**model_params)"
   ]
  },
  {
   "cell_type": "code",
   "execution_count": 11,
   "id": "8991a974",
   "metadata": {},
   "outputs": [],
   "source": [
    "train_data = [train_0, train_1, train_2, train_3, train_4]\n",
    "test_data = [test_0, test_1, test_2, test_3, test_4]\n",
    "other_data = [other_0, other_1, other_2, other_3, other_4]"
   ]
  },
  {
   "cell_type": "code",
   "execution_count": 18,
   "id": "d30c61e6",
   "metadata": {},
   "outputs": [
    {
     "data": {
      "application/vnd.jupyter.widget-view+json": {
       "model_id": "dd998ad9d9b04099aa9b06210de29f4c",
       "version_major": 2,
       "version_minor": 0
      },
      "text/plain": [
       "  0%|          | 0/5 [00:00<?, ?it/s]"
      ]
     },
     "metadata": {},
     "output_type": "display_data"
    }
   ],
   "source": [
    "predictions = []\n",
    "other_predictions = []\n",
    "\n",
    "for x,y,z in tqdm(zip(train_data, test_data, other_data), total=5):\n",
    "    X_train = x.drop(['TrainLabel', 'PropertyReference'],axis=1)\n",
    "    y_train = x['TrainLabel'] \n",
    "\n",
    "    X_test = y.drop(['TestLabel', 'PropertyReference'],axis=1)\n",
    "    X_other = z.drop(['TrainLabel', 'PropertyReference'],axis=1)\n",
    "\n",
    "    model.fit(\n",
    "        X=X_train,\n",
    "        y=y_train,\n",
    "        cat_features=initial_cat_features,\n",
    "        plot=False,\n",
    "        verbose=0\n",
    "             )\n",
    "\n",
    "    preds = model.predict(X_test)\n",
    "    other_preds = model.predict(X_other)\n",
    "\n",
    "    predictions.append(preds)\n",
    "    other_predictions.append(other_preds)"
   ]
  },
  {
   "cell_type": "code",
   "execution_count": 19,
   "id": "c5c07759",
   "metadata": {},
   "outputs": [],
   "source": [
    "df_evaluate = pd.DataFrame()\n",
    "\n",
    "df_evaluate['Predictions'] = np.concatenate(predictions)\n",
    "df_evaluate['Actual'] = np.concatenate([x.TestLabel for x in test_data])"
   ]
  },
  {
   "cell_type": "code",
   "execution_count": 20,
   "id": "aef71a41",
   "metadata": {},
   "outputs": [
    {
     "data": {
      "text/plain": [
       "24.273552523175276"
      ]
     },
     "execution_count": 20,
     "metadata": {},
     "output_type": "execute_result"
    }
   ],
   "source": [
    "smape(df_evaluate['Actual'], df_evaluate['Predictions'])"
   ]
  },
  {
   "cell_type": "code",
   "execution_count": 21,
   "id": "e169f7d0",
   "metadata": {},
   "outputs": [],
   "source": [
    "df_other = pd.DataFrame()\n",
    "\n",
    "df_other['Predictions'] = np.concatenate(other_predictions)\n",
    "df_other['Actual'] = np.concatenate([z.TrainLabel for z in other_data])"
   ]
  },
  {
   "cell_type": "code",
   "execution_count": 22,
   "id": "2b28da15",
   "metadata": {},
   "outputs": [
    {
     "data": {
      "text/plain": [
       "15.155679977333786"
      ]
     },
     "execution_count": 22,
     "metadata": {},
     "output_type": "execute_result"
    }
   ],
   "source": [
    "smape(df_other['Actual'], df_other['Predictions'])"
   ]
  },
  {
   "cell_type": "markdown",
   "id": "e0648d0e",
   "metadata": {},
   "source": [
    "### Average Price Feature Inclusion\n",
    "\n",
    "Require pricing for train and tests set seperately"
   ]
  },
  {
   "cell_type": "code",
   "execution_count": 13,
   "id": "993e2325",
   "metadata": {},
   "outputs": [],
   "source": [
    "# train pricing - raw\n",
    "PRICING_SQL = get_query('data/pricing_features_raw_dev.sql')\n",
    "\n",
    "PRICING_SQL = PRICING_SQL.replace('?startdate', '2021-03-13')\n",
    "PRICING_SQL = PRICING_SQL.replace('?enddate', '2022-03-12')\n",
    "\n",
    "pricing_train = fetch_SQLserver_data(PRICING_SQL, conn_CDM)"
   ]
  },
  {
   "cell_type": "code",
   "execution_count": 14,
   "id": "bca60df6",
   "metadata": {},
   "outputs": [],
   "source": [
    "# test pricing - raw\n",
    "PRICING_SQL = get_query('data/pricing_features_raw_dev.sql')\n",
    "\n",
    "PRICING_SQL = PRICING_SQL.replace('?startdate', '2022-03-12')\n",
    "PRICING_SQL = PRICING_SQL.replace('?enddate', '2023-03-11')\n",
    "\n",
    "pricing_test = fetch_SQLserver_data(PRICING_SQL, conn_CDM)"
   ]
  },
  {
   "cell_type": "code",
   "execution_count": 23,
   "id": "ff63adfa",
   "metadata": {},
   "outputs": [],
   "source": [
    "# train aggregated\n",
    "train_mean_pricing = pricing_train[['PropertyReference', 'BasePriceSterling']].groupby('PropertyReference').mean().reset_index()"
   ]
  },
  {
   "cell_type": "code",
   "execution_count": 24,
   "id": "ab6fa753",
   "metadata": {},
   "outputs": [],
   "source": [
    "# test aggregated\n",
    "test_mean_pricing = pricing_test[['PropertyReference', 'BasePriceSterling']].groupby('PropertyReference').mean().reset_index()"
   ]
  },
  {
   "cell_type": "code",
   "execution_count": 25,
   "id": "f6cc936e",
   "metadata": {},
   "outputs": [],
   "source": [
    "train_avg = []\n",
    "test_avg = []\n",
    "other_avg = []\n",
    "# join to existing train data\n",
    "for x,y,z in zip(train_data, test_data, other_data):\n",
    "    x = x.merge(train_mean_pricing, on='PropertyReference')\n",
    "    y = y.merge(test_mean_pricing, on='PropertyReference')\n",
    "    z = z.merge(train_mean_pricing, on='PropertyReference')\n",
    "    train_avg.append(x)\n",
    "    test_avg.append(y)\n",
    "    other_avg.append(z)"
   ]
  },
  {
   "cell_type": "code",
   "execution_count": 26,
   "id": "9e2bbdde",
   "metadata": {},
   "outputs": [
    {
     "data": {
      "application/vnd.jupyter.widget-view+json": {
       "model_id": "e18d2334edde4a7a8ac080f83c7ab941",
       "version_major": 2,
       "version_minor": 0
      },
      "text/plain": [
       "  0%|          | 0/5 [00:00<?, ?it/s]"
      ]
     },
     "metadata": {},
     "output_type": "display_data"
    }
   ],
   "source": [
    "predictions = []\n",
    "other_predictions = []\n",
    "\n",
    "for x,y,z in tqdm(zip(train_avg, test_avg, other_avg), total=5):\n",
    "    X_train = x.drop(['TrainLabel', 'PropertyReference'],axis=1)\n",
    "    y_train = x['TrainLabel'] \n",
    "\n",
    "    X_test = y.drop(['TestLabel', 'PropertyReference'],axis=1)\n",
    "    X_other = z.drop(['TrainLabel', 'PropertyReference'],axis=1)\n",
    "\n",
    "    model.fit(\n",
    "        X=X_train,\n",
    "        y=y_train,\n",
    "        cat_features=initial_cat_features,\n",
    "        plot=False,\n",
    "        verbose=0\n",
    "             )\n",
    "\n",
    "    preds = model.predict(X_test)\n",
    "    other_preds = model.predict(X_other)\n",
    "\n",
    "    predictions.append(preds)\n",
    "    other_predictions.append(other_preds)"
   ]
  },
  {
   "cell_type": "code",
   "execution_count": 27,
   "id": "7664eb9d",
   "metadata": {},
   "outputs": [],
   "source": [
    "df_evaluate_avg = pd.DataFrame()\n",
    "\n",
    "df_evaluate_avg['Predictions'] = np.concatenate(predictions)\n",
    "df_evaluate_avg['Actual'] = np.concatenate([x.TestLabel for x in test_avg])"
   ]
  },
  {
   "cell_type": "code",
   "execution_count": 28,
   "id": "8be79401",
   "metadata": {},
   "outputs": [
    {
     "data": {
      "text/plain": [
       "23.744346136528502"
      ]
     },
     "execution_count": 28,
     "metadata": {},
     "output_type": "execute_result"
    }
   ],
   "source": [
    "# slight drop - but lots of features and pricing\n",
    "smape(df_evaluate_avg['Actual'], df_evaluate_avg['Predictions'])"
   ]
  },
  {
   "cell_type": "code",
   "execution_count": 29,
   "id": "fa94bb74",
   "metadata": {},
   "outputs": [
    {
     "data": {
      "text/plain": [
       "5"
      ]
     },
     "execution_count": 29,
     "metadata": {},
     "output_type": "execute_result"
    }
   ],
   "source": [
    "len(other_predictions)"
   ]
  },
  {
   "cell_type": "code",
   "execution_count": 30,
   "id": "c7f2fcef",
   "metadata": {},
   "outputs": [],
   "source": [
    "df_other = pd.DataFrame()\n",
    "\n",
    "df_other['Predictions'] = np.concatenate(other_predictions)\n",
    "df_other['Actual'] = np.concatenate([z.TrainLabel for z in other_data])"
   ]
  },
  {
   "cell_type": "code",
   "execution_count": 31,
   "id": "c842ce44",
   "metadata": {},
   "outputs": [
    {
     "data": {
      "text/plain": [
       "12.906000779454708"
      ]
     },
     "execution_count": 31,
     "metadata": {},
     "output_type": "execute_result"
    }
   ],
   "source": [
    "# big improvement here\n",
    "smape(df_other['Actual'], df_other['Predictions'])"
   ]
  },
  {
   "cell_type": "markdown",
   "id": "b0942ad1",
   "metadata": {},
   "source": [
    "### Avg Super Peak Price Feature Inclusion"
   ]
  },
  {
   "cell_type": "code",
   "execution_count": 32,
   "id": "2ff26255",
   "metadata": {},
   "outputs": [],
   "source": [
    "train_mean_pricing = pricing_train.loc[pricing_train['HolidaySeason'] == 'Super Peak'][['PropertyReference', 'BasePriceSterling']].groupby('PropertyReference').mean().reset_index()"
   ]
  },
  {
   "cell_type": "code",
   "execution_count": 33,
   "id": "474bcd58",
   "metadata": {},
   "outputs": [],
   "source": [
    "test_mean_pricing = pricing_test.loc[pricing_test['HolidaySeason'] == 'Super Peak'][['PropertyReference', 'BasePriceSterling']].groupby('PropertyReference').mean().reset_index()"
   ]
  },
  {
   "cell_type": "code",
   "execution_count": 34,
   "id": "07eaa7d7",
   "metadata": {},
   "outputs": [],
   "source": [
    "train_avg = []\n",
    "test_avg = []\n",
    "other_avg = []\n",
    "# join to existing train data\n",
    "for x,y,z in zip(train_data, test_data, other_data):\n",
    "    x = x.merge(train_mean_pricing, on='PropertyReference')\n",
    "    y = y.merge(test_mean_pricing, on='PropertyReference')\n",
    "    z = z.merge(train_mean_pricing, on='PropertyReference')\n",
    "    train_avg.append(x)\n",
    "    test_avg.append(y)\n",
    "    other_avg.append(z)"
   ]
  },
  {
   "cell_type": "code",
   "execution_count": 35,
   "id": "f95d6599",
   "metadata": {},
   "outputs": [
    {
     "data": {
      "application/vnd.jupyter.widget-view+json": {
       "model_id": "1ca2912d3f024be09974a15b951000b3",
       "version_major": 2,
       "version_minor": 0
      },
      "text/plain": [
       "  0%|          | 0/5 [00:00<?, ?it/s]"
      ]
     },
     "metadata": {},
     "output_type": "display_data"
    }
   ],
   "source": [
    "predictions = []\n",
    "other_predictions = []\n",
    "\n",
    "for x,y,z in tqdm(zip(train_avg, test_avg, other_avg), total=5):\n",
    "    X_train = x.drop(['TrainLabel', 'PropertyReference'],axis=1)\n",
    "    y_train = x['TrainLabel'] \n",
    "\n",
    "    X_test = y.drop(['TestLabel', 'PropertyReference'],axis=1)\n",
    "    X_other = z.drop(['TrainLabel', 'PropertyReference'],axis=1)\n",
    "\n",
    "    model.fit(\n",
    "        X=X_train,\n",
    "        y=y_train,\n",
    "        cat_features=initial_cat_features,\n",
    "        plot=False,\n",
    "        verbose=0\n",
    "             )\n",
    "\n",
    "    preds = model.predict(X_test)\n",
    "    other_preds = model.predict(X_other)\n",
    "\n",
    "    predictions.append(preds)\n",
    "    other_predictions.append(other_preds)"
   ]
  },
  {
   "cell_type": "code",
   "execution_count": 36,
   "id": "07178eb4",
   "metadata": {},
   "outputs": [],
   "source": [
    "df_evaluate_avg = pd.DataFrame()\n",
    "\n",
    "df_evaluate_avg['Predictions'] = np.concatenate(predictions)\n",
    "df_evaluate_avg['Actual'] = np.concatenate([x.TestLabel for x in test_avg])"
   ]
  },
  {
   "cell_type": "code",
   "execution_count": 37,
   "id": "648e78de",
   "metadata": {},
   "outputs": [
    {
     "data": {
      "text/plain": [
       "24.78802437655852"
      ]
     },
     "execution_count": 37,
     "metadata": {},
     "output_type": "execute_result"
    }
   ],
   "source": [
    "# worse, over-predictions also\n",
    "smape(df_evaluate_avg['Actual'], df_evaluate_avg['Predictions'])"
   ]
  },
  {
   "cell_type": "code",
   "execution_count": 38,
   "id": "be9c5a71",
   "metadata": {},
   "outputs": [
    {
     "data": {
      "text/plain": [
       "22.952873395114974"
      ]
     },
     "execution_count": 38,
     "metadata": {},
     "output_type": "execute_result"
    }
   ],
   "source": [
    "smape(df_evaluate_avg['Actual'], df_evaluate_avg['Predictions']*0.90)"
   ]
  },
  {
   "cell_type": "code",
   "execution_count": 39,
   "id": "4d7fff6d",
   "metadata": {},
   "outputs": [],
   "source": [
    "df_other = pd.DataFrame()\n",
    "\n",
    "df_other['Predictions'] = np.concatenate(other_predictions)\n",
    "df_other['Actual'] = np.concatenate([z.TrainLabel for z in other_data])"
   ]
  },
  {
   "cell_type": "code",
   "execution_count": 40,
   "id": "d964da7f",
   "metadata": {},
   "outputs": [
    {
     "data": {
      "text/plain": [
       "12.721297258996966"
      ]
     },
     "execution_count": 40,
     "metadata": {},
     "output_type": "execute_result"
    }
   ],
   "source": [
    "smape(df_other['Actual'], df_other['Predictions'])"
   ]
  },
  {
   "cell_type": "markdown",
   "id": "cc6a0fbf",
   "metadata": {},
   "source": [
    "### Flat/Low Variance Pricing"
   ]
  },
  {
   "cell_type": "code",
   "execution_count": 41,
   "id": "20787999",
   "metadata": {},
   "outputs": [],
   "source": [
    "train_mean_pricing = pricing_train[['PropertyReference', 'BasePriceSterling']].groupby('PropertyReference').std().reset_index()"
   ]
  },
  {
   "cell_type": "code",
   "execution_count": 42,
   "id": "fa3866fc",
   "metadata": {},
   "outputs": [],
   "source": [
    "test_mean_pricing = pricing_test[['PropertyReference', 'BasePriceSterling']].groupby('PropertyReference').std().reset_index()"
   ]
  },
  {
   "cell_type": "code",
   "execution_count": 43,
   "id": "e8651d6d",
   "metadata": {},
   "outputs": [],
   "source": [
    "train_avg = []\n",
    "test_avg = []\n",
    "other_avg = []\n",
    "# join to existing train data\n",
    "for x,y,z in zip(train_data, test_data, other_data):\n",
    "    x = x.merge(train_mean_pricing, on='PropertyReference')\n",
    "    y = y.merge(test_mean_pricing, on='PropertyReference')\n",
    "    z = z.merge(train_mean_pricing, on='PropertyReference')\n",
    "    train_avg.append(x)\n",
    "    test_avg.append(y)\n",
    "    other_avg.append(z)"
   ]
  },
  {
   "cell_type": "code",
   "execution_count": 44,
   "id": "737c4927",
   "metadata": {},
   "outputs": [
    {
     "data": {
      "application/vnd.jupyter.widget-view+json": {
       "model_id": "6003186d437d4b33bba0624d8065bb61",
       "version_major": 2,
       "version_minor": 0
      },
      "text/plain": [
       "  0%|          | 0/5 [00:00<?, ?it/s]"
      ]
     },
     "metadata": {},
     "output_type": "display_data"
    }
   ],
   "source": [
    "predictions = []\n",
    "other_predictions = []\n",
    "\n",
    "for x,y,z in tqdm(zip(train_avg, test_avg, other_avg), total=5):\n",
    "    X_train = x.drop(['TrainLabel', 'PropertyReference'],axis=1)\n",
    "    y_train = x['TrainLabel'] \n",
    "\n",
    "    X_test = y.drop(['TestLabel', 'PropertyReference'],axis=1)\n",
    "    X_other = z.drop(['TrainLabel', 'PropertyReference'],axis=1)\n",
    "\n",
    "    model.fit(\n",
    "        X=X_train,\n",
    "        y=y_train,\n",
    "        cat_features=initial_cat_features,\n",
    "        plot=False,\n",
    "        verbose=0\n",
    "             )\n",
    "\n",
    "    preds = model.predict(X_test)\n",
    "    other_preds = model.predict(X_other)\n",
    "\n",
    "    predictions.append(preds)\n",
    "    other_predictions.append(other_preds)"
   ]
  },
  {
   "cell_type": "code",
   "execution_count": 45,
   "id": "d43a2907",
   "metadata": {},
   "outputs": [],
   "source": [
    "df_evaluate_avg = pd.DataFrame()\n",
    "\n",
    "df_evaluate_avg['Predictions'] = np.concatenate(predictions)\n",
    "df_evaluate_avg['Actual'] = np.concatenate([x.TestLabel for x in test_avg])"
   ]
  },
  {
   "cell_type": "code",
   "execution_count": 46,
   "id": "d625b89f",
   "metadata": {},
   "outputs": [
    {
     "data": {
      "text/plain": [
       "24.322249864582645"
      ]
     },
     "execution_count": 46,
     "metadata": {},
     "output_type": "execute_result"
    }
   ],
   "source": [
    "smape(df_evaluate_avg['Actual'], df_evaluate_avg['Predictions'])"
   ]
  },
  {
   "cell_type": "code",
   "execution_count": 47,
   "id": "7b67631d",
   "metadata": {},
   "outputs": [],
   "source": [
    "df_other = pd.DataFrame()\n",
    "\n",
    "df_other['Predictions'] = np.concatenate(other_predictions)\n",
    "df_other['Actual'] = np.concatenate([z.TrainLabel for z in other_data])"
   ]
  },
  {
   "cell_type": "code",
   "execution_count": 48,
   "id": "cbd2fa82",
   "metadata": {},
   "outputs": [
    {
     "data": {
      "text/plain": [
       "13.314344589369096"
      ]
     },
     "execution_count": 48,
     "metadata": {},
     "output_type": "execute_result"
    }
   ],
   "source": [
    "smape(df_other['Actual'], df_other['Predictions'])"
   ]
  },
  {
   "cell_type": "markdown",
   "id": "c88dc500",
   "metadata": {},
   "source": [
    "### Super Peak Average and Variance Pricing"
   ]
  },
  {
   "cell_type": "code",
   "execution_count": 49,
   "id": "f8a3d96c",
   "metadata": {},
   "outputs": [],
   "source": [
    "train_mean_pricing_1 = pricing_train[['PropertyReference', 'BasePriceSterling']].groupby('PropertyReference').mean().reset_index()\n",
    "train_mean_pricing_2 = pricing_train[['PropertyReference', 'BasePriceSterling']].groupby('PropertyReference').std().reset_index()"
   ]
  },
  {
   "cell_type": "code",
   "execution_count": 50,
   "id": "402c5385",
   "metadata": {},
   "outputs": [],
   "source": [
    "test_mean_pricing_1 = pricing_test[['PropertyReference', 'BasePriceSterling']].groupby('PropertyReference').mean().reset_index()\n",
    "test_mean_pricing_2 = pricing_test[['PropertyReference', 'BasePriceSterling']].groupby('PropertyReference').std().reset_index()"
   ]
  },
  {
   "cell_type": "code",
   "execution_count": 51,
   "id": "74e83ca0",
   "metadata": {},
   "outputs": [],
   "source": [
    "train_avg = []\n",
    "test_avg = []\n",
    "other_avg = []\n",
    "# join to existing train data\n",
    "for x,y,z in zip(train_data, test_data, other_data):\n",
    "    x = x.merge(train_mean_pricing_1, on='PropertyReference')\n",
    "    y = y.merge(test_mean_pricing_1, on='PropertyReference')\n",
    "    z = z.merge(train_mean_pricing_1, on='PropertyReference')\n",
    "    x = x.merge(train_mean_pricing_2, on='PropertyReference')\n",
    "    y = y.merge(test_mean_pricing_2, on='PropertyReference')\n",
    "    z = z.merge(train_mean_pricing_2, on='PropertyReference')\n",
    "    train_avg.append(x)\n",
    "    test_avg.append(y)\n",
    "    other_avg.append(z)"
   ]
  },
  {
   "cell_type": "code",
   "execution_count": 52,
   "id": "ea5ccb51",
   "metadata": {},
   "outputs": [
    {
     "data": {
      "application/vnd.jupyter.widget-view+json": {
       "model_id": "0b600fe03b184f8b862fd8c188a2d40e",
       "version_major": 2,
       "version_minor": 0
      },
      "text/plain": [
       "  0%|          | 0/5 [00:00<?, ?it/s]"
      ]
     },
     "metadata": {},
     "output_type": "display_data"
    }
   ],
   "source": [
    "predictions = []\n",
    "other_predictions = []\n",
    "\n",
    "for x,y,z in tqdm(zip(train_avg, test_avg, other_avg), total=5):\n",
    "    X_train = x.drop(['TrainLabel', 'PropertyReference'],axis=1)\n",
    "    y_train = x['TrainLabel'] \n",
    "\n",
    "    X_test = y.drop(['TestLabel', 'PropertyReference'],axis=1)\n",
    "    X_other = z.drop(['TrainLabel', 'PropertyReference'],axis=1)\n",
    "\n",
    "    model.fit(\n",
    "        X=X_train,\n",
    "        y=y_train,\n",
    "        cat_features=initial_cat_features,\n",
    "        plot=False,\n",
    "        verbose=0\n",
    "             )\n",
    "\n",
    "    preds = model.predict(X_test)\n",
    "    other_preds = model.predict(X_other)\n",
    "\n",
    "    predictions.append(preds)\n",
    "    other_predictions.append(other_preds)"
   ]
  },
  {
   "cell_type": "code",
   "execution_count": 53,
   "id": "c4700d96",
   "metadata": {},
   "outputs": [],
   "source": [
    "df_evaluate_avg = pd.DataFrame()\n",
    "\n",
    "df_evaluate_avg['Predictions'] = np.concatenate(predictions)\n",
    "df_evaluate_avg['Actual'] = np.concatenate([x.TestLabel for x in test_avg])"
   ]
  },
  {
   "cell_type": "code",
   "execution_count": 54,
   "id": "d079feb6",
   "metadata": {},
   "outputs": [
    {
     "data": {
      "text/plain": [
       "24.004299189056795"
      ]
     },
     "execution_count": 54,
     "metadata": {},
     "output_type": "execute_result"
    }
   ],
   "source": [
    "smape(df_evaluate_avg['Actual'], df_evaluate_avg['Predictions'])"
   ]
  },
  {
   "cell_type": "code",
   "execution_count": 55,
   "id": "ee4f3581",
   "metadata": {},
   "outputs": [],
   "source": [
    "df_other = pd.DataFrame()\n",
    "\n",
    "df_other['Predictions'] = np.concatenate(other_predictions)\n",
    "df_other['Actual'] = np.concatenate([z.TrainLabel for z in other_data])"
   ]
  },
  {
   "cell_type": "code",
   "execution_count": 56,
   "id": "1790ca08",
   "metadata": {},
   "outputs": [
    {
     "data": {
      "text/plain": [
       "12.683557090969446"
      ]
     },
     "execution_count": 56,
     "metadata": {},
     "output_type": "execute_result"
    }
   ],
   "source": [
    "# very little than using the super peak average on its own\n",
    "smape(df_other['Actual'], df_other['Predictions'])"
   ]
  },
  {
   "cell_type": "markdown",
   "id": "ba0f3e31",
   "metadata": {},
   "source": [
    "## Summary\n",
    "\n",
    "|Model|Year 1 sMAPE|Year 2 sMAPE|\n",
    "|-----|------------|------------|\n",
    "|Baseline|    15.16|       24.27|\n",
    "|Average|     12.91|       23.74|\n",
    "|Super Peak| 12.72 |       24.79|\n",
    "|Variance|    13.31|       24.32|\n",
    "|Super Peak & Variance|12.68|24.00|\n",
    "\n",
    "Note: The pricing feature improves historic revenue prediction more than the forecast revenue prediction. It still improves the forecast prediction but not as significantly as it should. This could be due to changing global trends. Including price will also impact the counter-factual evaluation."
   ]
  },
  {
   "cell_type": "code",
   "execution_count": null,
   "id": "e4a96d98",
   "metadata": {},
   "outputs": [],
   "source": []
  }
 ],
 "metadata": {
  "kernelspec": {
   "display_name": "Python 3 (ipykernel)",
   "language": "python",
   "name": "python3"
  },
  "language_info": {
   "codemirror_mode": {
    "name": "ipython",
    "version": 3
   },
   "file_extension": ".py",
   "mimetype": "text/x-python",
   "name": "python",
   "nbconvert_exporter": "python",
   "pygments_lexer": "ipython3",
   "version": "3.12.2"
  }
 },
 "nbformat": 4,
 "nbformat_minor": 5
}
