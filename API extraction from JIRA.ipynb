{
 "cells": [
  {
   "cell_type": "code",
   "execution_count": 7,
   "id": "026f3876-7a25-46c3-ae5c-ce6aa3b40ff7",
   "metadata": {
    "execution": {
     "iopub.execute_input": "2024-04-26T16:08:14.903030Z",
     "iopub.status.busy": "2024-04-26T16:08:14.903030Z",
     "iopub.status.idle": "2024-04-26T16:08:14.907848Z",
     "shell.execute_reply": "2024-04-26T16:08:14.906821Z",
     "shell.execute_reply.started": "2024-04-26T16:08:14.903030Z"
    }
   },
   "outputs": [],
   "source": [
    "import requests\n",
    "from requests.auth import HTTPBasicAuth\n",
    "import json\n",
    "import pandas as pd\n",
    "import keyring"
   ]
  },
  {
   "cell_type": "code",
   "execution_count": null,
   "id": "8fefbd98-5212-4822-867c-52f194112538",
   "metadata": {},
   "outputs": [],
   "source": [
    "# Configuration\n",
    "jira_domain = 'https://forgeholidays.atlassian.net/'\n",
    "email = 'youremailid'\n",
    "project_key = 'yourprojectname'\n",
    "api_token = 'api token'\n"
   ]
  },
  {
   "cell_type": "code",
   "execution_count": 3,
   "id": "8c3d4504-48bd-42af-90fe-0bee485e0fff",
   "metadata": {
    "execution": {
     "iopub.execute_input": "2024-04-26T15:54:16.229987Z",
     "iopub.status.busy": "2024-04-26T15:54:16.229987Z",
     "iopub.status.idle": "2024-04-26T15:54:18.645125Z",
     "shell.execute_reply": "2024-04-26T15:54:18.643908Z",
     "shell.execute_reply.started": "2024-04-26T15:54:16.229987Z"
    }
   },
   "outputs": [
    {
     "name": "stderr",
     "output_type": "stream",
     "text": [
      "C:\\Users\\DeepankarSrigyan\\AppData\\Local\\Programs\\Python\\Python312\\Lib\\site-packages\\urllib3\\connectionpool.py:1103: InsecureRequestWarning: Unverified HTTPS request is being made to host 'forgeholidays.atlassian.net'. Adding certificate verification is strongly advised. See: https://urllib3.readthedocs.io/en/latest/advanced-usage.html#tls-warnings\n",
      "  warnings.warn(\n"
     ]
    },
    {
     "name": "stdout",
     "output_type": "stream",
     "text": [
      "Requested URL: https://forgeholidays.atlassian.net//rest/api/3/search?jql=project%3DDAB+ORDER+BY+created+DESC&maxResults=1000\n",
      "Total issues fetched: 100\n",
      "Issues have been saved to jira_issues.json and jira_issues.xlsx\n"
     ]
    }
   ],
   "source": [
    "\n",
    "\n",
    "# path correction\n",
    "if not jira_domain.startswith('https://'):\n",
    "    jira_domain = 'https://' + jira_domain\n",
    "\n",
    "# Create Jira API URL\n",
    "url = f\"{jira_domain}/rest/api/3/search\"\n",
    "\n",
    "# Query \n",
    "query = {\n",
    "    'jql': f'project={project_key}',\n",
    "    'maxResults': 1000  # Adjust based on your needs\n",
    "}\n",
    "\n",
    "try:\n",
    "    # request\n",
    "    response = requests.get(\n",
    "        url,\n",
    "        headers={'Content-Type': 'application/json'},\n",
    "        params=query,\n",
    "        auth=HTTPBasicAuth(email, api_token),\n",
    "        verify=False  # SSL security off, need to work with IT so we do not need to do it False\n",
    "    )\n",
    "\n",
    "    # request URL (for debugging)\n",
    "    print(\"Requested URL:\", response.url)\n",
    "\n",
    "    # errors\n",
    "    response.raise_for_status()\n",
    "\n",
    "    # Process the response\n",
    "    issues = response.json()['issues']\n",
    "    print(f'Total issues fetched: {len(issues)}')\n",
    "\n",
    "    # Convert to DataFrame\n",
    "    df_issues = pd.json_normalize(issues)  # JSON data into a  table\n",
    "\n",
    "    # Save to an Excel file\n",
    "    df_issues.to_excel('jira_issues.xlsx', index=False)  \n",
    "\n",
    "    print('Issues have been saved to jira_issues.json and jira_issues.xlsx')  # Update print statement\n",
    "\n",
    "except requests.exceptions.RequestException as e:\n",
    "    print(f'An error occurred: {e}')\n"
   ]
  },
  {
   "cell_type": "code",
   "execution_count": 6,
   "id": "bb2e8e0e-f759-463e-9fb8-7705f6bc04b1",
   "metadata": {
    "execution": {
     "iopub.execute_input": "2024-04-26T16:03:06.925072Z",
     "iopub.status.busy": "2024-04-26T16:03:06.924056Z",
     "iopub.status.idle": "2024-04-26T16:03:06.931365Z",
     "shell.execute_reply": "2024-04-26T16:03:06.930321Z",
     "shell.execute_reply.started": "2024-04-26T16:03:06.925072Z"
    }
   },
   "outputs": [
    {
     "name": "stdout",
     "output_type": "stream",
     "text": [
      "None\n"
     ]
    }
   ],
   "source": [
    "import keyring\n",
    "\n",
    "# Retrieve API token from Windows Credential Manager\n",
    "api_token = keyring.get_password('JIRA_API', 'dummy')\n",
    "\n",
    "# Now you can use `api_token` in your script\n",
    "print(api_token)"
   ]
  },
  {
   "cell_type": "code",
   "execution_count": null,
   "id": "0a521b1b-54f1-4d57-b7bf-2c67d9265882",
   "metadata": {},
   "outputs": [],
   "source": []
  }
 ],
 "metadata": {
  "kernelspec": {
   "display_name": "Python 3 (ipykernel)",
   "language": "python",
   "name": "python3"
  },
  "language_info": {
   "codemirror_mode": {
    "name": "ipython",
    "version": 3
   },
   "file_extension": ".py",
   "mimetype": "text/x-python",
   "name": "python",
   "nbconvert_exporter": "python",
   "pygments_lexer": "ipython3",
   "version": "3.12.2"
  }
 },
 "nbformat": 4,
 "nbformat_minor": 5
}
