{
 "cells": [
  {
   "cell_type": "code",
   "execution_count": 5,
   "id": "c4fd038e-d7bc-4703-b6c4-a23fcec56f77",
   "metadata": {
    "execution": {
     "iopub.execute_input": "2024-04-26T16:08:28.008792Z",
     "iopub.status.busy": "2024-04-26T16:08:28.008792Z",
     "iopub.status.idle": "2024-04-26T16:08:28.725628Z",
     "shell.execute_reply": "2024-04-26T16:08:28.725186Z",
     "shell.execute_reply.started": "2024-04-26T16:08:28.008792Z"
    }
   },
   "outputs": [],
   "source": [
    "import requests\n",
    "from requests.auth import HTTPBasicAuth\n",
    "import json\n",
    "import pandas as pd\n",
    "import keyring"
   ]
  },
  {
   "cell_type": "code",
   "execution_count": 23,
   "id": "88f55f1c-6414-4adf-a556-c3c0fe7a677e",
   "metadata": {
    "execution": {
     "iopub.execute_input": "2024-04-26T13:04:45.781140Z",
     "iopub.status.busy": "2024-04-26T13:04:45.780090Z",
     "iopub.status.idle": "2024-04-26T13:04:45.791341Z",
     "shell.execute_reply": "2024-04-26T13:04:45.789328Z",
     "shell.execute_reply.started": "2024-04-26T13:04:45.781140Z"
    }
   },
   "outputs": [],
   "source": [
    "import os\n",
    "\n",
    "# Change the current working directory\n",
    "os.chdir('C:/Users/DeepankarSrigyan/OneDrive - Sykes Cottages Ltd/Desktop/Project/Inforsec and data handling/')\n",
    "\n",
    "# Now, when you open a file without specifying a full path, Python looks in the current working directory\n",
    "with open('another_file.txt', 'w') as f:\n",
    "    f.write('This file is saved in the specified default directory.')"
   ]
  },
  {
   "cell_type": "code",
   "execution_count": 19,
   "id": "5d644aad-73a0-4a2c-a217-5091fa6fc23a",
   "metadata": {
    "execution": {
     "iopub.execute_input": "2024-04-26T13:00:42.606476Z",
     "iopub.status.busy": "2024-04-26T13:00:42.606476Z",
     "iopub.status.idle": "2024-04-26T13:00:42.609979Z",
     "shell.execute_reply": "2024-04-26T13:00:42.609979Z",
     "shell.execute_reply.started": "2024-04-26T13:00:42.606476Z"
    }
   },
   "outputs": [],
   "source": [
    "# Configuration\n",
    "jira_domain = 'https://forgeholidays.atlassian.net/'\n",
    "email = 'deepankar.srigyan@sykescottages.co.uk'\n",
    "project_key = 'DAB ORDER BY created DESC'\n",
    "api_token = 'ATATT3xFfGF051KEh_dStCQY8bY9DvNaKHlS7zpbnkLCuocmDJRPVqt1dshidVNFMtaydR-Gcp-Bkiq7Bjd7379q7z7fiTYQg1h4Peg8IUsv82X9OwY5NnVcdCCoBGbK6su82hrdiIY9mkCZPtKV3vID4MaqBOVKwiaiWq6KEPEx0dzCkYFfKxI=CE4E24FA'\n"
   ]
  },
  {
   "cell_type": "code",
   "execution_count": 9,
   "id": "f35436b8-b307-4aee-b02e-b445fc56198e",
   "metadata": {
    "execution": {
     "iopub.execute_input": "2024-04-26T16:12:30.578795Z",
     "iopub.status.busy": "2024-04-26T16:12:30.577779Z",
     "iopub.status.idle": "2024-04-26T16:12:30.584409Z",
     "shell.execute_reply": "2024-04-26T16:12:30.583368Z",
     "shell.execute_reply.started": "2024-04-26T16:12:30.578795Z"
    }
   },
   "outputs": [],
   "source": [
    "# Configuration\n",
    "jira_domain = 'https://forgeholidays.atlassian.net/'\n",
    "email = 'deepankar.srigyan@sykescottages.co.uk'\n",
    "project_key = 'DAB ORDER BY created DESC'\n",
    "api_token =  keyring.get_password('JIRA_API', 'dummy')\n"
   ]
  },
  {
   "cell_type": "code",
   "execution_count": 21,
   "id": "32bac6ef-35d1-45cd-b50b-b360f2eb724b",
   "metadata": {
    "execution": {
     "iopub.execute_input": "2024-04-26T13:01:15.378736Z",
     "iopub.status.busy": "2024-04-26T13:01:15.377736Z",
     "iopub.status.idle": "2024-04-26T13:01:18.775951Z",
     "shell.execute_reply": "2024-04-26T13:01:18.775951Z",
     "shell.execute_reply.started": "2024-04-26T13:01:15.378736Z"
    }
   },
   "outputs": [
    {
     "name": "stderr",
     "output_type": "stream",
     "text": [
      "C:\\Users\\DeepankarSrigyan\\AppData\\Local\\Programs\\Python\\Python312\\Lib\\site-packages\\urllib3\\connectionpool.py:1103: InsecureRequestWarning: Unverified HTTPS request is being made to host 'forgeholidays.atlassian.net'. Adding certificate verification is strongly advised. See: https://urllib3.readthedocs.io/en/latest/advanced-usage.html#tls-warnings\n",
      "  warnings.warn(\n"
     ]
    },
    {
     "name": "stdout",
     "output_type": "stream",
     "text": [
      "Total issues fetched: 100\n",
      "Issues have been saved to jira_issues.json\n"
     ]
    }
   ],
   "source": [
    "\n",
    "\n",
    "# Ensure the domain is correctly formatted\n",
    "if not jira_domain.startswith('https://'):\n",
    "    jira_domain = 'https://' + jira_domain\n",
    "\n",
    "# Jira API URL\n",
    "url = f\"{jira_domain}/rest/api/3/search\"\n",
    "\n",
    "# Query parameters\n",
    "query = {\n",
    "    'jql': f'project={project_key}',\n",
    "    'maxResults': 1000  # Adjust based on your needs\n",
    "}\n",
    "\n",
    "try:\n",
    "    # Make the request\n",
    "    response = requests.get(\n",
    "        url,\n",
    "        headers={'Content-Type': 'application/json'},\n",
    "        params=query,\n",
    "        auth=HTTPBasicAuth(email, api_token),\n",
    "        verify=False  # Disable SSL certificate verification\n",
    "    )\n",
    "\n",
    "    # Check for errors\n",
    "    response.raise_for_status()\n",
    "\n",
    "    # Process the response\n",
    "    issues = response.json()['issues']\n",
    "    print(f'Total issues fetched: {len(issues)}')\n",
    "\n",
    "    # Save the issues to a file\n",
    "    with open('jira_issues.json', 'w') as f:\n",
    "        json.dump(issues, f)\n",
    "\n",
    "    print('Issues have been saved to jira_issues.json')\n",
    "\n",
    "except requests.exceptions.RequestException as e:\n",
    "    print(f'An error occurred: {e}')\n"
   ]
  },
  {
   "cell_type": "code",
   "execution_count": 30,
   "id": "ceda3f99-992e-449e-995c-3c8da738a2d5",
   "metadata": {
    "execution": {
     "iopub.execute_input": "2024-04-26T13:14:48.981568Z",
     "iopub.status.busy": "2024-04-26T13:14:48.981568Z",
     "iopub.status.idle": "2024-04-26T13:14:51.664358Z",
     "shell.execute_reply": "2024-04-26T13:14:51.663353Z",
     "shell.execute_reply.started": "2024-04-26T13:14:48.981568Z"
    }
   },
   "outputs": [
    {
     "name": "stderr",
     "output_type": "stream",
     "text": [
      "C:\\Users\\DeepankarSrigyan\\AppData\\Local\\Programs\\Python\\Python312\\Lib\\site-packages\\urllib3\\connectionpool.py:1103: InsecureRequestWarning: Unverified HTTPS request is being made to host 'forgeholidays.atlassian.net'. Adding certificate verification is strongly advised. See: https://urllib3.readthedocs.io/en/latest/advanced-usage.html#tls-warnings\n",
      "  warnings.warn(\n"
     ]
    },
    {
     "name": "stdout",
     "output_type": "stream",
     "text": [
      "Requested URL: https://forgeholidays.atlassian.net//rest/api/3/search?jql=project%3DDAB+ORDER+BY+created+DESC&maxResults=1000\n",
      "Total issues fetched: 100\n",
      "Issues have been saved to jira_issues.json\n"
     ]
    }
   ],
   "source": [
    "# Ensure the domain is correctly formatted\n",
    "if not jira_domain.startswith('https://'):\n",
    "    jira_domain = 'https://' + jira_domain\n",
    "\n",
    "# Jira API URL\n",
    "url = f\"{jira_domain}/rest/api/3/search\"\n",
    "\n",
    "# Query parameters\n",
    "query = {\n",
    "    'jql': f'project={project_key}',\n",
    "    'maxResults': 1000  # Adjust based on your needs\n",
    "}\n",
    "\n",
    "try:\n",
    "    # Make the request\n",
    "    response = requests.get(\n",
    "        url,\n",
    "        headers={'Content-Type': 'application/json'},\n",
    "        params=query,\n",
    "        auth=HTTPBasicAuth(email, api_token),\n",
    "        verify=False  # This is for testing; remove in production for security\n",
    "    )\n",
    "\n",
    "    # Print the full request URL (for debugging)\n",
    "    print(\"Requested URL:\", response.url)\n",
    "\n",
    "    # Check for errors\n",
    "    response.raise_for_status()\n",
    "\n",
    "    # Process the response\n",
    "    issues = response.json()['issues']\n",
    "    print(f'Total issues fetched: {len(issues)}')\n",
    "\n",
    "    # Save the issues to a file\n",
    "    with open('jira_issues.json', 'w') as f:\n",
    "        json.dump(issues, f)\n",
    "\n",
    "    print('Issues have been saved to jira_issues.json')\n",
    "\n",
    "\n",
    "\n",
    "\n",
    "except requests.exceptions.RequestException as e:\n",
    "    print(f'An error occurred: {e}')\n"
   ]
  }
 ],
 "metadata": {
  "kernelspec": {
   "display_name": "Python 3 (ipykernel)",
   "language": "python",
   "name": "python3"
  },
  "language_info": {
   "codemirror_mode": {
    "name": "ipython",
    "version": 3
   },
   "file_extension": ".py",
   "mimetype": "text/x-python",
   "name": "python",
   "nbconvert_exporter": "python",
   "pygments_lexer": "ipython3",
   "version": "3.12.2"
  }
 },
 "nbformat": 4,
 "nbformat_minor": 5
}
