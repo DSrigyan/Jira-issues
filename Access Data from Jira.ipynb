{
 "cells": [
  {
   "cell_type": "code",
   "execution_count": 4,
   "id": "46db27b1-9660-441f-a743-2d7d2af81d80",
   "metadata": {
    "execution": {
     "iopub.execute_input": "2024-04-29T08:32:21.155620Z",
     "iopub.status.busy": "2024-04-29T08:32:21.155620Z",
     "iopub.status.idle": "2024-04-29T08:32:21.160865Z",
     "shell.execute_reply": "2024-04-29T08:32:21.159853Z",
     "shell.execute_reply.started": "2024-04-29T08:32:21.155620Z"
    }
   },
   "outputs": [],
   "source": [
    "import requests\n",
    "from requests.auth import HTTPBasicAuth\n",
    "import json\n",
    "import pandas as pd\n",
    "import keyring"
   ]
  },
  {
   "cell_type": "code",
   "execution_count": 11,
   "id": "ad6fd735-0df5-4480-a140-1a6df99dbf3b",
   "metadata": {
    "execution": {
     "iopub.execute_input": "2024-04-29T08:39:10.764700Z",
     "iopub.status.busy": "2024-04-29T08:39:10.764700Z",
     "iopub.status.idle": "2024-04-29T08:39:10.771721Z",
     "shell.execute_reply": "2024-04-29T08:39:10.771207Z",
     "shell.execute_reply.started": "2024-04-29T08:39:10.764700Z"
    }
   },
   "outputs": [],
   "source": [
    "jira_domain = 'https://forgeholidays.atlassian.net/'\n",
    "email = 'deepankar.srigyan@sykescottages.co.uk'\n",
    "project_key = 'DAB ORDER BY created DESC'\n",
    "\n",
    "#Credential needs to be stored in window credential before running this.\n",
    "api_token = keyring.get_password('JIRA_API', 'deepankar.srigyan@sykescottages.co.uk')\n"
   ]
  },
  {
   "cell_type": "code",
   "execution_count": 12,
   "id": "8cfb1b7e-8e0a-407f-b3f3-80ea4436c246",
   "metadata": {
    "execution": {
     "iopub.execute_input": "2024-04-29T08:39:14.332664Z",
     "iopub.status.busy": "2024-04-29T08:39:14.331150Z",
     "iopub.status.idle": "2024-04-29T08:39:17.474440Z",
     "shell.execute_reply": "2024-04-29T08:39:17.473304Z",
     "shell.execute_reply.started": "2024-04-29T08:39:14.332664Z"
    }
   },
   "outputs": [
    {
     "name": "stderr",
     "output_type": "stream",
     "text": [
      "C:\\Users\\DeepankarSrigyan\\AppData\\Local\\Programs\\Python\\Python312\\Lib\\site-packages\\urllib3\\connectionpool.py:1103: InsecureRequestWarning: Unverified HTTPS request is being made to host 'forgeholidays.atlassian.net'. Adding certificate verification is strongly advised. See: https://urllib3.readthedocs.io/en/latest/advanced-usage.html#tls-warnings\n",
      "  warnings.warn(\n"
     ]
    },
    {
     "name": "stdout",
     "output_type": "stream",
     "text": [
      "Requested URL: https://forgeholidays.atlassian.net//rest/api/3/search?jql=project%3DDAB+ORDER+BY+created+DESC&maxResults=1000\n",
      "Total issues fetched: 100\n",
      "Issues have been saved to jira_issues.json and jira_issues.xlsx\n"
     ]
    }
   ],
   "source": [
    "# path correction\n",
    "if not jira_domain.startswith('https://'):\n",
    "    jira_domain = 'https://' + jira_domain\n",
    "\n",
    "# Create Jira API URL\n",
    "url = f\"{jira_domain}/rest/api/3/search\"\n",
    "\n",
    "# Query \n",
    "query = {\n",
    "    'jql': f'project={project_key}',\n",
    "    'maxResults': 10000  # Adjust based on your needs\n",
    "}\n",
    "\n",
    "try:\n",
    "    # request\n",
    "    response = requests.get(\n",
    "        url,\n",
    "        headers={'Content-Type': 'application/json'},\n",
    "        params=query,\n",
    "        auth=HTTPBasicAuth(email, api_token),\n",
    "        verify=False  # SSL security off, need to work with IT so we do not need to do it False\n",
    "    )\n",
    "\n",
    "    # request URL (for debugging)\n",
    "    print(\"Requested URL:\", response.url)\n",
    "\n",
    "    # errors\n",
    "    response.raise_for_status()\n",
    "\n",
    "    # Process the response\n",
    "    issues = response.json()['issues']\n",
    "    print(f'Total issues fetched: {len(issues)}')\n",
    "\n",
    "    # Convert to DataFrame\n",
    "    df_issues = pd.json_normalize(issues)  # JSON data into a  table\n",
    "\n",
    "    # Save to an Excel file\n",
    "    df_issues.to_excel('jira_issues.xlsx', index=False)  \n",
    "\n",
    "    print('Issues have been saved to jira_issues.json and jira_issues.xlsx')  # Update print statement\n",
    "\n",
    "except requests.exceptions.RequestException as e:\n",
    "    print(f'An error occurred: {e}')"
   ]
  },
  {
   "cell_type": "code",
   "execution_count": null,
   "id": "c9928e92-fdc5-4d72-acb3-dae66bd05a66",
   "metadata": {},
   "outputs": [],
   "source": []
  }
 ],
 "metadata": {
  "kernelspec": {
   "display_name": "Python 3 (ipykernel)",
   "language": "python",
   "name": "python3"
  },
  "language_info": {
   "codemirror_mode": {
    "name": "ipython",
    "version": 3
   },
   "file_extension": ".py",
   "mimetype": "text/x-python",
   "name": "python",
   "nbconvert_exporter": "python",
   "pygments_lexer": "ipython3",
   "version": "3.12.2"
  }
 },
 "nbformat": 4,
 "nbformat_minor": 5
}
