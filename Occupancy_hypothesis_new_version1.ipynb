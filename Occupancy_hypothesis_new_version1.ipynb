{
 "cells": [
  {
   "cell_type": "markdown",
   "id": "9b06326a-226d-43f5-a791-b28a76403b54",
   "metadata": {},
   "source": [
    "## Hypothesis Testing: Occupany as a proxy for demand "
   ]
  },
  {
   "cell_type": "markdown",
   "id": "bc85abd8-2d6a-4eaa-87ce-378b42f7a404",
   "metadata": {},
   "source": [
    "Notebook By: Elizabeth Kneale \n",
    "\n",
    "Date: 15/03/2023\n",
    "\n",
    "Description: This notebook will document the process used to produce the occupancy features for the hypothesis testing & feature engineering portion of the New NRP Model. \n",
    "\n",
    "\n",
    "Originally set out to analyse supply and demand internally and against our competitors to understand whether there is a relationship between supply and demand features and revenue (How much is revenue influenced by internal and\n",
    "market conditions) over the same period the data will be trained on. \n",
    "- Due to limited info for competitors this would have to be done at a group level. \n",
    "\n",
    "Traditionally demand would be calculated using searches, but because of a lack of competitor search data and other complications arising from using the search data to develop features. \n",
    "\n",
    "- Due to the sheer volume of search data, we would only be able to easily process weeks/months of search data not a whole year. Searches analysis done at sporadic times is likely to be heavily influenced by marketing or micro-trends\n",
    "- Search process has many layers (i.e location can be searched for in multiple ways lat/long, area, postcode). \n"
   ]
  },
  {
   "cell_type": "markdown",
   "id": "48a881e5-e81c-4c77-914e-65906fdd0d03",
   "metadata": {},
   "source": [
    "We are instead calculating occupany over the target period as a proxy for demand, as days booked/against days too book (utilisation), over a fixed period of time. To understand. Along with price (another hypothesis, this should give us a good indication of revenue).\n",
    "\n",
    "\n",
    "This notebook will address the following statements:\n",
    "\n",
    "        'Does occupancy by season influence revenue'\n",
    "\n",
    "                                   &\n",
    "                                   \n",
    "       'Does occupancy over the year influence'\n",
    "      "
   ]
  },
  {
   "cell_type": "markdown",
   "id": "f79a5876-a416-40ad-821d-2601ffb9db79",
   "metadata": {},
   "source": [
    "- Calculate internal supply (the total amount of a good or service available) and demand (the desire consumers have for a good or service) Both of these factors have a big impact on the price of goods or services. If demand increases price can increase if supply increases then price can decrease to entice demand. \n",
    "\n",
    "\n",
    "The exploration and testing phase of this work will use the following datasets:\n",
    "\n",
    "- For internal *Demand* Property and Booking Availability [cdm].[propertymanagement].[property]\n",
    "[cdm].[propertymanagement].[propertyAvailability]"
   ]
  },
  {
   "cell_type": "markdown",
   "id": "c90552c8-d506-4b03-9e35-1b98ae8f299f",
   "metadata": {},
   "source": [
    "___________________________________________________________________________"
   ]
  },
  {
   "cell_type": "markdown",
   "id": "b78c1e6c-8f56-4d7f-bb65-f2d8cafcde5f",
   "metadata": {},
   "source": [
    "Versioning:\n",
    "\n",
    "This current version looks at days customer booked/days available to do a year in the same year the revenue calculation was done\n"
   ]
  },
  {
   "cell_type": "markdown",
   "id": "fc7c99cb-3492-4692-a7d4-9403811d487f",
   "metadata": {},
   "source": [
    "The first iteration of the work raised some concerns with the competitor information: \n",
    "1). The demand volumes appeared to be so much lower than Sykes, apart from a few regions i.e Scotland\n",
    "2). Not being able to distinguish between owner and customer days could lead to wrong interpretations\n",
    "3). Can't easily calculate customer booked/days available with only the the pricing table. Had to look at vol departures by total stock (Which could be easily inflated by longer season length)\n",
    "\n",
    "To counteract this, rather than comparing compteritor vs internal trends side by side to investigate who has the market share it was decided to see compare relative product popularity"
   ]
  },
  {
   "cell_type": "markdown",
   "id": "ec9041bb-73c2-4e10-ada3-ea9ef9fcc437",
   "metadata": {},
   "source": [
    "\n",
    "    "
   ]
  },
  {
   "cell_type": "markdown",
   "id": "94d50e77-24f6-41e5-b7be-546723af8d98",
   "metadata": {},
   "source": [
    "_____________________________________________________________________________"
   ]
  },
  {
   "cell_type": "markdown",
   "id": "8fc9007b-e427-4114-9c20-7124017bcd97",
   "metadata": {},
   "source": [
    "## Libraries "
   ]
  },
  {
   "cell_type": "code",
   "execution_count": 1,
   "id": "3906f066-b3ba-4bd5-bf7d-dd926ea45ae8",
   "metadata": {},
   "outputs": [],
   "source": [
    "import pandas as pd\n",
    "import os\n",
    "import numpy as np\n",
    "import boto3\n",
    "import pymssql\n",
    "import json\n",
    "import matplotlib.pyplot as plt\n",
    "import seaborn as sns\n",
    "import datetime as dt\n",
    "import plotly.express as px\n",
    "pd.set_option('display.max_rows', None)\n",
    "pd.set_option('display.max_columns', None)"
   ]
  },
  {
   "cell_type": "code",
   "execution_count": 2,
   "id": "30012859-eb0f-4f53-b6cf-0e7945599497",
   "metadata": {},
   "outputs": [],
   "source": [
    "#Retrieve query\n",
    "def get_query(_file):\n",
    "    query_file = open(_file, 'r')\n",
    "    query = query_file.read()\n",
    "    query_file.close()\n",
    "    return query\n",
    "\n",
    "def get_db_user(sm_name: str) -> dict:\n",
    "    region_name = \"eu-west-1\"\n",
    "\n",
    "    #Create a Secrets Manager client - add the profile_name parameter\n",
    "    session = boto3.session.Session(profile_name='bi-production')\n",
    "    client = session.client(service_name='secretsmanager'\n",
    "                            ,region_name=region_name\n",
    "                           )\n",
    "    response = client.get_secret_value(SecretId=sm_name)\n",
    "    return json.loads(response['SecretString'])\n",
    "\n",
    "#Connect to the database\n",
    "def get_db_conn(database_name, sql_code):\n",
    "    server = 'BI-DATA-PROD-02.sykescottages.co.uk'\n",
    "    conn = None\n",
    "    db_user = get_db_user(sm_name=\"Data_Pipeline_Service_User\")\n",
    "    user=db_user['username']\n",
    "    pwd=db_user['password']\n",
    "    try:\n",
    "        conn = pymssql.connect(server, user, pwd, database_name)\n",
    "        result = pd.read_sql(sql_code, conn)\n",
    "        conn.close()\n",
    "    except Exception as e:\n",
    "        print(f\"Server connection failed: {str(e)}\")\n",
    "        raise\n",
    "    return result"
   ]
  },
  {
   "cell_type": "code",
   "execution_count": 3,
   "id": "4d785598-a971-49f2-8792-ad3aa2890665",
   "metadata": {},
   "outputs": [],
   "source": [
    "project_path = os.path.join(os.path.abspath(os.path.join(os.getcwd())))\n",
    "DB_CDM = {'servername': 'BI-DATA-PROD-02',\n",
    "          'database': 'CDM'}"
   ]
  },
  {
   "cell_type": "code",
   "execution_count": 4,
   "id": "93694c08-535e-4a0d-b755-1eeed623568e",
   "metadata": {},
   "outputs": [
    {
     "name": "stderr",
     "output_type": "stream",
     "text": [
      "/var/folders/rd/fd9ml4gj2tzcpyn6vxt70mrr0000gn/T/ipykernel_35500/669184867.py:28: UserWarning: pandas only supports SQLAlchemy connectable (engine/connection) or database string URI or sqlite3 DBAPI2 connection. Other DBAPI2 objects are not tested. Please consider using SQLAlchemy.\n",
      "  result = pd.read_sql(sql_code, conn)\n"
     ]
    }
   ],
   "source": [
    "sql_query1 = get_query(os.path.join(project_path +'/internal_occupation1.sql'))\n",
    "supply2 = get_db_conn(database_name=DB_CDM['database'],\n",
    "                          sql_code=sql_query1)"
   ]
  },
  {
   "cell_type": "code",
   "execution_count": 8,
   "id": "5d391dc6-3773-4245-a04d-c98bafc1aa31",
   "metadata": {},
   "outputs": [],
   "source": [
    "# Read in the current target and propertyid to match target and data together\n",
    "train_set = pd.read_csv('/Users/elizabethkneale/projects/New_NRP/NRP_2.1/Mixed Linear Effects Example/OldTargetData /train_rolling_12_2023_06_01.csv')"
   ]
  },
  {
   "cell_type": "code",
   "execution_count": 9,
   "id": "cd00cd56-2184-4c1c-a62f-710b3d8ba2f9",
   "metadata": {},
   "outputs": [],
   "source": [
    "supply3 =supply2.merge(train_set[['PropertyReference','TrainLabel']],\n",
    "                how='inner',\n",
    "                left_on='PropertyReference',\n",
    "                right_on='PropertyReference')"
   ]
  },
  {
   "cell_type": "markdown",
   "id": "485c385a-2bd9-4c08-a499-cd85cd244f8d",
   "metadata": {},
   "source": [
    "## Occupancy Feature Definition: Two different denominators \n",
    "\n",
    "*How many days the property sell of all that are available to sell?*\n",
    "- Gross Occupancy - OccuAvailDays: Total days booked/ by days available including owner booked days \n",
    "*Of the days the owner gave us to sell how well does the property sell out?*\n",
    "- Net Occupancy OccuJustCust: Total days booked/ by days given too us by the owner"
   ]
  },
  {
   "cell_type": "code",
   "execution_count": 10,
   "id": "83a32c74-92c0-415b-bd98-f2cadeb56012",
   "metadata": {},
   "outputs": [
    {
     "name": "stderr",
     "output_type": "stream",
     "text": [
      "/var/folders/rd/fd9ml4gj2tzcpyn6vxt70mrr0000gn/T/ipykernel_35500/504031282.py:4: FutureWarning: In a future version of pandas all arguments of DataFrame.pivot will be keyword-only.\n",
      "  pivot_season = (supply3.assign(PropertyAvailableDaysIncOwner=\n"
     ]
    }
   ],
   "source": [
    "cols = ['PropertyID', 'PropertyReference','Bedrooms_c', 'AllowsPets',\n",
    "       'hasShortBreaksAllowed', 'WorkingRegion', 'Latitude', 'Longitude',\n",
    "       'Location', 'OwnerBookingTier', 'PropertyMetalscore']\n",
    "pivot_season = (supply3.assign(PropertyAvailableDaysIncOwner=\n",
    "                          lambda x:(x['PropertyAvailableDays']+x['OwnerBookedDays']))\n",
    "                          .assign(OccuAvailDays= \n",
    "                                  lambda x:(x['CustomerBookedDays']/\n",
    "                                   x['PropertyAvailableDaysIncOwner'])*100).round(2)\n",
    "                          .assign(OccuJustCust=\n",
    "                                  lambda x:(x['CustomerBookedDays']/\n",
    "                                   x['PropertyAvailableDays'])*100).round(2)\n",
    "           .pivot(cols, 'HolidaySeason', ['OccuAvailDays', \n",
    "                                          'OccuJustCust', \n",
    "                                          'CustomerBookedDays',\n",
    "                                          'OwnerBookedDays',\n",
    "                                          'PropertyAvailableDays',\n",
    "                                          'PropertyAvailableDaysIncOwner',\n",
    "                                          'UnavailableDays'\n",
    "                                                   ]).reset_index()  \n",
    "           .assign(Total_OccuAvailDaysOwner=lambda x: round((x.iloc[:, \n",
    "                                                                    x.columns\n",
    "                                                                    .get_level_values(0)=='CustomerBookedDays']\n",
    "                                                             .sum(axis=1))/\n",
    "                                                            (x.iloc[:, \n",
    "                                                                    x.columns\n",
    "                                                                    .get_level_values(0)=='PropertyAvailableDaysIncOwner']\n",
    "                                                             .sum(axis=1))*100,2))\n",
    "                .assign(Total_OccuAvailDay=lambda x: round((x.iloc[:, \n",
    "                                                                   x.columns\n",
    "                                                                   .get_level_values(0)=='CustomerBookedDays']\n",
    "                                                            .sum(axis=1))/\n",
    "                                                           (x.iloc[:,\n",
    "                                                                   x.columns\n",
    "                                                                   .get_level_values(0)=='PropertyAvailableDays']\n",
    "                                                            .sum(axis=1))*100,2))\n",
    "                        .assign(Total_OwnerBookedDays=lambda x: x.iloc[:, \n",
    "                                                                       x.columns\n",
    "                                                                       .get_level_values(0)=='OwnerBookedDays']\n",
    "                                                         .sum(axis=1))\n",
    "                         .assign(Total_UnavailableDays=lambda x: x.iloc[:, \n",
    "                                                                       x.columns\n",
    "                                                                       .get_level_values(0)=='UnavailableDays']\n",
    "                                                         .sum(axis=1))\n",
    "               )  \n",
    "                         \n",
    "               \n",
    "#No customer days booked and no customer days available - all either owner of \n",
    "pivot_season.columns  = pivot_season.columns.map('_'.join)          "
   ]
  },
  {
   "cell_type": "markdown",
   "id": "fa77744e-ff1b-4e05-8ae4-df99eb4ac734",
   "metadata": {},
   "source": [
    "## Compare the Two Targets"
   ]
  },
  {
   "cell_type": "code",
   "execution_count": 11,
   "id": "a97245ab-c0cf-4632-8d3a-3f30cb3615e5",
   "metadata": {},
   "outputs": [
    {
     "data": {
      "text/plain": [
       "Text(0.5, 1.0, 'Property Level - Occupancy Rating for Whole Year Comparison With and Without Owner Days')"
      ]
     },
     "execution_count": 11,
     "metadata": {},
     "output_type": "execute_result"
    },
    {
     "data": {
      "image/png": "[encoded data removed]",
      "text/plain": [
       "<Figure size 432x288 with 1 Axes>"
      ]
     },
     "metadata": {
      "needs_background": "light"
     },
     "output_type": "display_data"
    }
   ],
   "source": [
    "sns.histplot(data=pivot_season[[\"Total_OccuAvailDay_\", \"Total_OccuAvailDaysOwner_\"]]).set_title('Property Level - Occupancy Rating for Whole Year Comparison With and Without Owner Days')"
   ]
  },
  {
   "cell_type": "markdown",
   "id": "df9fb67c-c03f-44c3-be07-816fdef1f9f7",
   "metadata": {},
   "source": [
    "## Create the Groups for a group level analysis "
   ]
  },
  {
   "cell_type": "code",
   "execution_count": 12,
   "id": "0e2b3622-bac5-40ef-a2a4-8c0f14977266",
   "metadata": {},
   "outputs": [
    {
     "data": {
      "text/html": [
       "<div>\n",
       "<style scoped>\n",
       "    .dataframe tbody tr th:only-of-type {\n",
       "        vertical-align: middle;\n",
       "    }\n",
       "\n",
       "    .dataframe tbody tr th {\n",
       "        vertical-align: top;\n",
       "    }\n",
       "\n",
       "    .dataframe thead th {\n",
       "        text-align: right;\n",
       "    }\n",
       "</style>\n",
       "<table border=\"1\" class=\"dataframe\">\n",
       "  <thead>\n",
       "    <tr style=\"text-align: right;\">\n",
       "      <th></th>\n",
       "      <th>Bedrooms_c_</th>\n",
       "      <th>AllowsPets_</th>\n",
       "      <th>WorkingRegion_</th>\n",
       "      <th>hasShortBreaksAllowed_</th>\n",
       "      <th>mean</th>\n",
       "      <th>min</th>\n",
       "      <th>max</th>\n",
       "      <th>median</th>\n",
       "      <th>count</th>\n",
       "      <th>std</th>\n",
       "    </tr>\n",
       "  </thead>\n",
       "  <tbody>\n",
       "    <tr>\n",
       "      <th>0</th>\n",
       "      <td>1</td>\n",
       "      <td>False</td>\n",
       "      <td>Central Scotland</td>\n",
       "      <td>True</td>\n",
       "      <td>5866.305000</td>\n",
       "      <td>3646.70</td>\n",
       "      <td>8085.91</td>\n",
       "      <td>5866.305</td>\n",
       "      <td>2</td>\n",
       "      <td>3138.995494</td>\n",
       "    </tr>\n",
       "    <tr>\n",
       "      <th>1</th>\n",
       "      <td>1</td>\n",
       "      <td>False</td>\n",
       "      <td>Cornwall</td>\n",
       "      <td>False</td>\n",
       "      <td>4394.274286</td>\n",
       "      <td>2241.10</td>\n",
       "      <td>7213.49</td>\n",
       "      <td>4209.940</td>\n",
       "      <td>35</td>\n",
       "      <td>1362.019692</td>\n",
       "    </tr>\n",
       "    <tr>\n",
       "      <th>2</th>\n",
       "      <td>1</td>\n",
       "      <td>False</td>\n",
       "      <td>Cornwall</td>\n",
       "      <td>True</td>\n",
       "      <td>4138.028491</td>\n",
       "      <td>110.34</td>\n",
       "      <td>7329.94</td>\n",
       "      <td>4177.040</td>\n",
       "      <td>53</td>\n",
       "      <td>1588.255526</td>\n",
       "    </tr>\n",
       "    <tr>\n",
       "      <th>3</th>\n",
       "      <td>1</td>\n",
       "      <td>False</td>\n",
       "      <td>Cotswolds</td>\n",
       "      <td>False</td>\n",
       "      <td>3367.737500</td>\n",
       "      <td>1573.98</td>\n",
       "      <td>6116.51</td>\n",
       "      <td>2890.230</td>\n",
       "      <td>4</td>\n",
       "      <td>1970.427557</td>\n",
       "    </tr>\n",
       "    <tr>\n",
       "      <th>4</th>\n",
       "      <td>1</td>\n",
       "      <td>False</td>\n",
       "      <td>Cotswolds</td>\n",
       "      <td>True</td>\n",
       "      <td>5193.120357</td>\n",
       "      <td>1887.17</td>\n",
       "      <td>10051.64</td>\n",
       "      <td>5007.665</td>\n",
       "      <td>28</td>\n",
       "      <td>2148.991265</td>\n",
       "    </tr>\n",
       "  </tbody>\n",
       "</table>\n",
       "</div>"
      ],
      "text/plain": [
       "   Bedrooms_c_  AllowsPets_    WorkingRegion_  hasShortBreaksAllowed_  \\\n",
       "0            1        False  Central Scotland                    True   \n",
       "1            1        False          Cornwall                   False   \n",
       "2            1        False          Cornwall                    True   \n",
       "3            1        False         Cotswolds                   False   \n",
       "4            1        False         Cotswolds                    True   \n",
       "\n",
       "          mean      min       max    median  count          std  \n",
       "0  5866.305000  3646.70   8085.91  5866.305      2  3138.995494  \n",
       "1  4394.274286  2241.10   7213.49  4209.940     35  1362.019692  \n",
       "2  4138.028491   110.34   7329.94  4177.040     53  1588.255526  \n",
       "3  3367.737500  1573.98   6116.51  2890.230      4  1970.427557  \n",
       "4  5193.120357  1887.17  10051.64  5007.665     28  2148.991265  "
      ]
     },
     "execution_count": 12,
     "metadata": {},
     "output_type": "execute_result"
    }
   ],
   "source": [
    "#Note revenue yearly so it will is labelled as the same for all seasons\n",
    "suppT = pivot_season.merge(train_set[['TrainLabel',\n",
    "             'PropertyReference']],\n",
    "             how='inner',\n",
    "             left_on='PropertyReference_',\n",
    "             right_on='PropertyReference')\n",
    "supply_aggT = suppT.groupby(['Bedrooms_c_',\n",
    "                                       'AllowsPets_', \n",
    "                                       'WorkingRegion_',\n",
    "                                       'hasShortBreaksAllowed_'\n",
    "                             ])['TrainLabel'] .agg(['mean', 'min', 'max','median', 'count', 'std']).reset_index()\n",
    "supply_aggT.head()"
   ]
  },
  {
   "cell_type": "markdown",
   "id": "a8058821-48f5-4fa1-bca9-96811c08605f",
   "metadata": {},
   "source": [
    "_____________________________________________________________________________"
   ]
  },
  {
   "cell_type": "code",
   "execution_count": 13,
   "id": "8399da4a-2f1c-4ad3-832b-c46c780d2db3",
   "metadata": {},
   "outputs": [],
   "source": [
    "# Merge with revenue & compare both targets with revenue at season level and over the year to examine the relationship between occupany and revenue\n",
    "pivot_season_rev = pivot_season.merge(train_set[['PropertyReference',\n",
    "                                            'TrainLabel']],\n",
    "                                      how='inner',\n",
    "                                      left_on='PropertyReference_',\n",
    "                                      right_on='PropertyReference')"
   ]
  },
  {
   "cell_type": "markdown",
   "id": "59b9c13c-7d8a-4f93-b99f-9c180e50cfe3",
   "metadata": {},
   "source": [
    "## Yearly Occupancy By Property"
   ]
  },
  {
   "cell_type": "markdown",
   "id": "c7b24e54-6bce-402c-ae4b-081be2efa9bf",
   "metadata": {},
   "source": [
    "- Variance of Occupancy over the year has no impact on revenue\n",
    "- Higher Owner Occupancy Value the lower Revenue (Expected as we can't earn money from owner occupancy)\n",
    "- Something else here causing the revenue difference (Price)"
   ]
  },
  {
   "cell_type": "markdown",
   "id": "60c85ba5-c7e3-44e6-811b-6060284cf5b7",
   "metadata": {},
   "source": [
    "### Comparison of the gross and net targets to provide greater visability around occupancy."
   ]
  },
  {
   "cell_type": "code",
   "execution_count": 14,
   "id": "b9a41146-fbe1-436a-a9fb-551a946a1d6e",
   "metadata": {},
   "outputs": [],
   "source": [
    "OwnBTier_map = {'NA': 'Partial Flexibility',\n",
    " 'Partial Flexibility':'Partial Flexibility',\n",
    " 'C&CC Flexibility':'Partial Flexibility',\n",
    "'Lakelovers Hospitality':'Partial Flexibility',\n",
    "'Manor Flexibility':'Partial Flexibility',\n",
    "'Heart of the lakes Hospitality':'Partial Flexibility',\n",
    "'Helpful Holidays Flexibility':'Partial Flexibility'}"
   ]
  },
  {
   "cell_type": "code",
   "execution_count": 15,
   "id": "52d773dd-c74d-42ce-905f-1dfe69ea7f04",
   "metadata": {},
   "outputs": [],
   "source": [
    "pivot_season_rev['OwnerBookingTier_'] = pivot_season_rev['OwnerBookingTier_'].fillna('Full Flexibility').replace(OwnBTier_map)"
   ]
  },
  {
   "cell_type": "markdown",
   "id": "336229f5-5ad7-4ef2-9a5c-f6e03b8a70ad",
   "metadata": {},
   "source": [
    "#### Points from above\n",
    "\n",
    "- Ideally we would want properties to be in the top right hand corner (Little to no difference between occupancy of days given by customer to days occupancy with days owner booked)\n",
    "- Anything along the hypotenuse has little to no difference between the 2 occupany metrics, but higher has more days sold\n",
    "- The lower right vertex shows a high prop of days given by customer having sold, but a high volume of owner days as low occupany when owner days are used in the calculation.\n",
    "\n",
    "#### Potential Factors:\n",
    "- Could a difference in price be causing sellable days to not sell out\n",
    "- Or the presence scenarios such as the owner only allowing bookings on some days or violation of terms/full flex be causing a large number of owner days. \n",
    "\n",
    "\n",
    "#### To Conclude:\n",
    "\n",
    "Large variation in occupancy behaivour between days sellable and days owner booked. Can we combine the 2 fields if we used them both in the model, they might be correlated and if we only use one we run the risk of not telling the full story"
   ]
  },
  {
   "cell_type": "markdown",
   "id": "410dafa6-d19b-460f-8a13-519af58bbc5c",
   "metadata": {},
   "source": [
    "## Combining the gross and net occupancy features to understand all combined occupancy behaivour"
   ]
  },
  {
   "cell_type": "code",
   "execution_count": 17,
   "id": "6c60fc3c-dd57-443c-bf46-745bf28d84c6",
   "metadata": {},
   "outputs": [],
   "source": [
    "from sklearn.cluster import KMeans\n",
    "# random cluster centroids\n",
    "kmeans = KMeans(init=\"random\",\n",
    "                n_clusters=4,\n",
    "                n_init=10,\n",
    "                max_iter=300,\n",
    "                random_state=42\n",
    "               )\n",
    "t = kmeans.fit(pivot_season_rev[['Total_OccuAvailDay_', 'Total_OccuAvailDaysOwner_']])"
   ]
  },
  {
   "cell_type": "code",
   "execution_count": null,
   "id": "40e5032b-9e6b-4c23-bd5c-3c9b5dbf808a",
   "metadata": {},
   "outputs": [],
   "source": [
    "pivot_season_rev['groups'] = kmeans.labels_"
   ]
  },
  {
   "cell_type": "markdown",
   "id": "6c7703c7-0946-4c77-9c6b-c06ed183b2da",
   "metadata": {},
   "source": [
    "## Check Relationship with Revenue Target in Grouped Variable"
   ]
  },
  {
   "cell_type": "code",
   "execution_count": 19,
   "id": "84887a27-41e4-4ff5-83d2-ecefd903c9cc",
   "metadata": {},
   "outputs": [
    {
     "data": {
      "image/png": "[encoded data removed]",
      "text/plain": [
       "<Figure size 432x288 with 1 Axes>"
      ]
     },
     "metadata": {
      "needs_background": "light"
     },
     "output_type": "display_data"
    }
   ],
   "source": [
    "pivot_season_rev['groups'] = pivot_season_rev['groups'].astype(str)\n",
    "sns.boxplot(data=pivot_season_rev, x='groups', y='TrainLabel',\n",
    "            #hue='OwnerBookingTier_'\n",
    "           #hue='Bedrooms_c'\n",
    "           ).set(title=\"Boxplot of Engineered Occupancy 'Groups' by RevenueTarget\")\n",
    "plt.show()"
   ]
  },
  {
   "cell_type": "markdown",
   "id": "c0b83a37-1282-404a-8bc2-8e867a7d817a",
   "metadata": {},
   "source": [
    "## How Can We Infer Occupancy for New Properties Without resorting to Aggregated Values that Can Influence Ecological Fallacy"
   ]
  },
  {
   "cell_type": "code",
   "execution_count": 20,
   "id": "b5df1fea-b941-4eeb-8ff7-51355e262a9a",
   "metadata": {},
   "outputs": [],
   "source": [
    "pivot_season_rev_test = pivot_season_rev.sample(random_state=4,\n",
    "                                               frac=0.15)\n",
    "pivot_season_rev_train = pivot_season_rev[~pivot_season_rev.index.isin(pivot_season_rev_test.index.tolist())]"
   ]
  },
  {
   "cell_type": "code",
   "execution_count": 21,
   "id": "52542ae9-3bc0-4b49-8f8a-64070d6a31b4",
   "metadata": {},
   "outputs": [],
   "source": [
    "pivot_season_rev_train= pivot_season_rev_train.replace({True:1,\n",
    "                                                       False:0})\n",
    "pivot_season_rev_train = pivot_season_rev_train.set_index('PropertyReference')"
   ]
  },
  {
   "cell_type": "markdown",
   "id": "a98e9e29-ed9e-4571-b241-f3f37c470368",
   "metadata": {},
   "source": [
    "## Check the correlation of the all the potential occupancy predictors"
   ]
  },
  {
   "cell_type": "code",
   "execution_count": 22,
   "id": "ab3791f2-b5d7-4391-8b80-636e1eb1eec8",
   "metadata": {},
   "outputs": [
    {
     "data": {
      "text/plain": [
       "<AxesSubplot:>"
      ]
     },
     "execution_count": 22,
     "metadata": {},
     "output_type": "execute_result"
    },
    {
     "data": {
      "image/png": "[encoded data removed]",
      "text/plain": [
       "<Figure size 432x288 with 2 Axes>"
      ]
     },
     "metadata": {
      "needs_background": "light"
     },
     "output_type": "display_data"
    }
   ],
   "source": [
    "cols = ['OccuAvailDays_Mid', \n",
    "        'OccuAvailDays_Off Peak', \n",
    "        'OccuAvailDays_Peak',\n",
    "       'OccuAvailDays_Super Peak', \n",
    "        'OccuAvailDays_Winter',\n",
    "       'OccuAvailDays_Xmas',\n",
    "       'Total_OccuAvailDaysOwner_',\n",
    "       'Total_OccuAvailDay_',]\n",
    "corr = pivot_season_rev_train[cols].corr()\n",
    "#display(corr)\n",
    "# plot the heatmap\n",
    "sns.heatmap(corr, \n",
    "        xticklabels=corr.columns,\n",
    "        yticklabels=corr.columns)"
   ]
  },
  {
   "cell_type": "markdown",
   "id": "1425f020-88fb-46e8-961e-2a676bdf2e1d",
   "metadata": {},
   "source": [
    "## Test out a Nearest Neighbours Approach to Predict New Occupancy Values\n",
    "\n",
    " - To see how well we can predict each potential occupancy feature from its neighbours and decide whether this could be used to calculate occupancy in the model. \n",
    "- Test out different values of K for each feature and return the model with the lowest error"
   ]
  },
  {
   "cell_type": "code",
   "execution_count": 23,
   "id": "854dec56-490a-459c-804d-c9d4b2bc99c1",
   "metadata": {},
   "outputs": [],
   "source": [
    "# get dummies from owner booking tier\n",
    "dummy_obt_train = pd.get_dummies(pivot_season_rev_train['OwnerBookingTier_'])\n",
    "dummy_obt_test = pd.get_dummies(pivot_season_rev_test['OwnerBookingTier_'])\n",
    "pivot_season_rev_train = pd.concat([pivot_season_rev_train, dummy_obt_train],axis=1)\n",
    "pivot_season_rev_test= pd.concat([pivot_season_rev_test , dummy_obt_test],axis=1)\n",
    "pivot_season_rev_train['OccuAvailDays_Xmas'].fillna(pivot_season_rev_train['OccuAvailDays_Xmas'].mean(),inplace=True) \n",
    "pivot_season_rev_test['OccuAvailDays_Xmas'].fillna(pivot_season_rev_test['OccuAvailDays_Xmas'].mean(),inplace=True)"
   ]
  },
  {
   "cell_type": "code",
   "execution_count": 24,
   "id": "0b46a9f0-8872-473a-be34-a4373dddf734",
   "metadata": {},
   "outputs": [
    {
     "data": {
      "text/html": [
       "<div>\n",
       "<style scoped>\n",
       "    .dataframe tbody tr th:only-of-type {\n",
       "        vertical-align: middle;\n",
       "    }\n",
       "\n",
       "    .dataframe tbody tr th {\n",
       "        vertical-align: top;\n",
       "    }\n",
       "\n",
       "    .dataframe thead th {\n",
       "        text-align: right;\n",
       "    }\n",
       "</style>\n",
       "<table border=\"1\" class=\"dataframe\">\n",
       "  <thead>\n",
       "    <tr style=\"text-align: right;\">\n",
       "      <th></th>\n",
       "      <th>Latitude_</th>\n",
       "      <th>Longitude_</th>\n",
       "    </tr>\n",
       "  </thead>\n",
       "  <tbody>\n",
       "    <tr>\n",
       "      <th>count</th>\n",
       "      <td>7631.000000</td>\n",
       "      <td>7631.00000</td>\n",
       "    </tr>\n",
       "    <tr>\n",
       "      <th>mean</th>\n",
       "      <td>52.851183</td>\n",
       "      <td>-3.15360</td>\n",
       "    </tr>\n",
       "    <tr>\n",
       "      <th>std</th>\n",
       "      <td>1.758953</td>\n",
       "      <td>1.86391</td>\n",
       "    </tr>\n",
       "    <tr>\n",
       "      <th>min</th>\n",
       "      <td>49.960000</td>\n",
       "      <td>-10.37000</td>\n",
       "    </tr>\n",
       "    <tr>\n",
       "      <th>25%</th>\n",
       "      <td>51.200000</td>\n",
       "      <td>-4.24000</td>\n",
       "    </tr>\n",
       "    <tr>\n",
       "      <th>50%</th>\n",
       "      <td>53.000000</td>\n",
       "      <td>-3.05000</td>\n",
       "    </tr>\n",
       "    <tr>\n",
       "      <th>75%</th>\n",
       "      <td>54.290000</td>\n",
       "      <td>-1.97000</td>\n",
       "    </tr>\n",
       "    <tr>\n",
       "      <th>max</th>\n",
       "      <td>58.540000</td>\n",
       "      <td>1.75000</td>\n",
       "    </tr>\n",
       "  </tbody>\n",
       "</table>\n",
       "</div>"
      ],
      "text/plain": [
       "         Latitude_  Longitude_\n",
       "count  7631.000000  7631.00000\n",
       "mean     52.851183    -3.15360\n",
       "std       1.758953     1.86391\n",
       "min      49.960000   -10.37000\n",
       "25%      51.200000    -4.24000\n",
       "50%      53.000000    -3.05000\n",
       "75%      54.290000    -1.97000\n",
       "max      58.540000     1.75000"
      ]
     },
     "execution_count": 24,
     "metadata": {},
     "output_type": "execute_result"
    }
   ],
   "source": [
    "# Need to scale the geographic features to avoid higher ranged features getting favoured\n",
    "pivot_season_rev_train[['Latitude_','Longitude_']].describe()"
   ]
  },
  {
   "cell_type": "markdown",
   "id": "5663a275-6e6f-40ba-81c7-7c048ef2135b",
   "metadata": {},
   "source": [
    "## Run A Nearest Neighbours Algorithm to get Occupancy Predictions on all Candidate Features"
   ]
  },
  {
   "cell_type": "code",
   "execution_count": 25,
   "id": "940ce8cd-f5ac-4231-8fb0-e07c74c15010",
   "metadata": {},
   "outputs": [
    {
     "name": "stderr",
     "output_type": "stream",
     "text": [
      "100%|█████████████████████████████████████████████| 8/8 [00:11<00:00,  1.50s/it]\n"
     ]
    },
    {
     "data": {
      "text/html": [
       "<div>\n",
       "<style scoped>\n",
       "    .dataframe tbody tr th:only-of-type {\n",
       "        vertical-align: middle;\n",
       "    }\n",
       "\n",
       "    .dataframe tbody tr th {\n",
       "        vertical-align: top;\n",
       "    }\n",
       "\n",
       "    .dataframe thead th {\n",
       "        text-align: right;\n",
       "    }\n",
       "</style>\n",
       "<table border=\"1\" class=\"dataframe\">\n",
       "  <thead>\n",
       "    <tr style=\"text-align: right;\">\n",
       "      <th></th>\n",
       "      <th>Target Col</th>\n",
       "      <th>K Value</th>\n",
       "      <th>Score</th>\n",
       "      <th>MSE</th>\n",
       "    </tr>\n",
       "  </thead>\n",
       "  <tbody>\n",
       "    <tr>\n",
       "      <th>105</th>\n",
       "      <td>OccuAvailDays_Mid</td>\n",
       "      <td>20</td>\n",
       "      <td>0.267986</td>\n",
       "      <td>411.946702</td>\n",
       "    </tr>\n",
       "    <tr>\n",
       "      <th>230</th>\n",
       "      <td>OccuAvailDays_Off Peak</td>\n",
       "      <td>29</td>\n",
       "      <td>0.150834</td>\n",
       "      <td>582.361753</td>\n",
       "    </tr>\n",
       "    <tr>\n",
       "      <th>196</th>\n",
       "      <td>OccuAvailDays_Peak</td>\n",
       "      <td>24</td>\n",
       "      <td>0.288278</td>\n",
       "      <td>394.745725</td>\n",
       "    </tr>\n",
       "    <tr>\n",
       "      <th>173</th>\n",
       "      <td>OccuAvailDays_Super Peak</td>\n",
       "      <td>30</td>\n",
       "      <td>0.154866</td>\n",
       "      <td>567.154979</td>\n",
       "    </tr>\n",
       "    <tr>\n",
       "      <th>86</th>\n",
       "      <td>OccuAvailDays_Winter</td>\n",
       "      <td>30</td>\n",
       "      <td>0.154837</td>\n",
       "      <td>426.517360</td>\n",
       "    </tr>\n",
       "    <tr>\n",
       "      <th>144</th>\n",
       "      <td>OccuAvailDays_Xmas</td>\n",
       "      <td>30</td>\n",
       "      <td>0.099989</td>\n",
       "      <td>1161.598414</td>\n",
       "    </tr>\n",
       "    <tr>\n",
       "      <th>28</th>\n",
       "      <td>Total_OccuAvailDay_</td>\n",
       "      <td>30</td>\n",
       "      <td>0.168412</td>\n",
       "      <td>249.941819</td>\n",
       "    </tr>\n",
       "    <tr>\n",
       "      <th>56</th>\n",
       "      <td>Total_OccuAvailDaysOwner_</td>\n",
       "      <td>29</td>\n",
       "      <td>0.265332</td>\n",
       "      <td>252.515413</td>\n",
       "    </tr>\n",
       "  </tbody>\n",
       "</table>\n",
       "</div>"
      ],
      "text/plain": [
       "                    Target Col  K Value     Score          MSE\n",
       "105          OccuAvailDays_Mid       20  0.267986   411.946702\n",
       "230     OccuAvailDays_Off Peak       29  0.150834   582.361753\n",
       "196         OccuAvailDays_Peak       24  0.288278   394.745725\n",
       "173   OccuAvailDays_Super Peak       30  0.154866   567.154979\n",
       "86        OccuAvailDays_Winter       30  0.154837   426.517360\n",
       "144         OccuAvailDays_Xmas       30  0.099989  1161.598414\n",
       "28         Total_OccuAvailDay_       30  0.168412   249.941819\n",
       "56   Total_OccuAvailDaysOwner_       29  0.265332   252.515413"
      ]
     },
     "execution_count": 25,
     "metadata": {},
     "output_type": "execute_result"
    }
   ],
   "source": [
    "# Whats the optimum value of k for the different targets\n",
    "from sklearn.neighbors import KNeighborsRegressor, kneighbors_graph\n",
    "import scikitplot as skplt\n",
    "from sklearn.preprocessing import MinMaxScaler\n",
    "from tqdm import tqdm\n",
    "\n",
    "k_val =[]\n",
    "score = []\n",
    "mse=[]\n",
    "target_col = []\n",
    "\n",
    "X_train = pivot_season_rev_train[['Bedrooms_c_', \n",
    "                                  'Full Flexibility',\n",
    "                            'Off-peak Flexibility',\n",
    "                            'Partial Flexibility',\n",
    "                            'Existing Owners',\n",
    "                            'Latitude_', \n",
    "                            'Longitude_'\n",
    "                                 ]]\n",
    "X_test = pivot_season_rev_test[['Bedrooms_c_', \n",
    "                            'Full Flexibility',\n",
    "                            'Off-peak Flexibility',\n",
    "                            'Partial Flexibility',\n",
    "                            'Existing Owners',\n",
    "                            'Latitude_', \n",
    "                            'Longitude_']]\n",
    "target_cols = ['Total_OccuAvailDay_', \n",
    "               'Total_OccuAvailDaysOwner_', \n",
    "               'OccuAvailDays_Winter', \n",
    "               'OccuAvailDays_Mid', \n",
    "               'OccuAvailDays_Xmas', \n",
    "               'OccuAvailDays_Super Peak', \n",
    "               'OccuAvailDays_Peak', \n",
    "               'OccuAvailDays_Off Peak'\n",
    "              ]\n",
    "scaler = MinMaxScaler()\n",
    "X_train_scaled, X_test_scaled = scaler.fit_transform(X_train), scaler.fit_transform(X_test)\n",
    "for t in tqdm(target_cols):\n",
    "    y_train = pivot_season_rev_train[t].values\n",
    "    y_test = pivot_season_rev_test[t].values\n",
    "    for i in range(2,31):\n",
    "        neigh = KNeighborsRegressor(n_neighbors=i, algorithm='brute')\n",
    "        neigh.fit(X_train_scaled, y_train)\n",
    "        k_val.append(i)\n",
    "        score.append(neigh.score(X_test_scaled, y_test))\n",
    "        Y_pred = neigh.predict(X_test_scaled)\n",
    "        MSE = np.square(np.subtract(y_test,Y_pred)).mean()\n",
    "        mse.append(MSE)\n",
    "        target_col.append(t)\n",
    "results = pd.DataFrame(zip(target_col, k_val,score, mse), \n",
    "                       columns=['Target Col','K Value', 'Score', 'MSE'])\n",
    "fin_res = results.iloc[results.groupby('Target Col')['Score'].idxmax()]\n",
    "fin_res"
   ]
  },
  {
   "cell_type": "code",
   "execution_count": 26,
   "id": "80183668-1951-41b0-b32f-914c79ac7337",
   "metadata": {},
   "outputs": [
    {
     "name": "stderr",
     "output_type": "stream",
     "text": [
      "100%|█████████████████████████████████████████████| 8/8 [00:11<00:00,  1.39s/it]\n"
     ]
    },
    {
     "data": {
      "text/html": [
       "<div>\n",
       "<style scoped>\n",
       "    .dataframe tbody tr th:only-of-type {\n",
       "        vertical-align: middle;\n",
       "    }\n",
       "\n",
       "    .dataframe tbody tr th {\n",
       "        vertical-align: top;\n",
       "    }\n",
       "\n",
       "    .dataframe thead th {\n",
       "        text-align: right;\n",
       "    }\n",
       "</style>\n",
       "<table border=\"1\" class=\"dataframe\">\n",
       "  <thead>\n",
       "    <tr style=\"text-align: right;\">\n",
       "      <th></th>\n",
       "      <th>Target Col</th>\n",
       "      <th>K Value</th>\n",
       "      <th>Score</th>\n",
       "      <th>MSE</th>\n",
       "    </tr>\n",
       "  </thead>\n",
       "  <tbody>\n",
       "    <tr>\n",
       "      <th>105</th>\n",
       "      <td>OccuAvailDays_Mid</td>\n",
       "      <td>20</td>\n",
       "      <td>0.267986</td>\n",
       "      <td>411.946702</td>\n",
       "    </tr>\n",
       "    <tr>\n",
       "      <th>230</th>\n",
       "      <td>OccuAvailDays_Off Peak</td>\n",
       "      <td>29</td>\n",
       "      <td>0.150834</td>\n",
       "      <td>582.361753</td>\n",
       "    </tr>\n",
       "    <tr>\n",
       "      <th>196</th>\n",
       "      <td>OccuAvailDays_Peak</td>\n",
       "      <td>24</td>\n",
       "      <td>0.288278</td>\n",
       "      <td>394.745725</td>\n",
       "    </tr>\n",
       "    <tr>\n",
       "      <th>173</th>\n",
       "      <td>OccuAvailDays_Super Peak</td>\n",
       "      <td>30</td>\n",
       "      <td>0.154866</td>\n",
       "      <td>567.154979</td>\n",
       "    </tr>\n",
       "    <tr>\n",
       "      <th>86</th>\n",
       "      <td>OccuAvailDays_Winter</td>\n",
       "      <td>30</td>\n",
       "      <td>0.154837</td>\n",
       "      <td>426.517360</td>\n",
       "    </tr>\n",
       "    <tr>\n",
       "      <th>144</th>\n",
       "      <td>OccuAvailDays_Xmas</td>\n",
       "      <td>30</td>\n",
       "      <td>0.099989</td>\n",
       "      <td>1161.598414</td>\n",
       "    </tr>\n",
       "    <tr>\n",
       "      <th>28</th>\n",
       "      <td>Total_OccuAvailDay_</td>\n",
       "      <td>30</td>\n",
       "      <td>0.168412</td>\n",
       "      <td>249.941819</td>\n",
       "    </tr>\n",
       "    <tr>\n",
       "      <th>56</th>\n",
       "      <td>Total_OccuAvailDaysOwner_</td>\n",
       "      <td>29</td>\n",
       "      <td>0.265332</td>\n",
       "      <td>252.515413</td>\n",
       "    </tr>\n",
       "  </tbody>\n",
       "</table>\n",
       "</div>"
      ],
      "text/plain": [
       "                    Target Col  K Value     Score          MSE\n",
       "105          OccuAvailDays_Mid       20  0.267986   411.946702\n",
       "230     OccuAvailDays_Off Peak       29  0.150834   582.361753\n",
       "196         OccuAvailDays_Peak       24  0.288278   394.745725\n",
       "173   OccuAvailDays_Super Peak       30  0.154866   567.154979\n",
       "86        OccuAvailDays_Winter       30  0.154837   426.517360\n",
       "144         OccuAvailDays_Xmas       30  0.099989  1161.598414\n",
       "28         Total_OccuAvailDay_       30  0.168412   249.941819\n",
       "56   Total_OccuAvailDaysOwner_       29  0.265332   252.515413"
      ]
     },
     "execution_count": 26,
     "metadata": {},
     "output_type": "execute_result"
    }
   ],
   "source": [
    "# Whats the optimum value of k for the different targets\n",
    "from sklearn.neighbors import KNeighborsRegressor, kneighbors_graph\n",
    "import scikitplot as skplt\n",
    "from sklearn.preprocessing import MinMaxScaler\n",
    "from tqdm import tqdm\n",
    "\n",
    "k_val =[]\n",
    "score = []\n",
    "mse=[]\n",
    "target_col = []\n",
    "\n",
    "X_train = pivot_season_rev_train[['Bedrooms_c_', \n",
    "                                  'Full Flexibility',\n",
    "                            'Off-peak Flexibility',\n",
    "                            'Partial Flexibility',\n",
    "                            'Existing Owners',\n",
    "                            'Latitude_', \n",
    "                            'Longitude_'\n",
    "                                 ]]\n",
    "X_test = pivot_season_rev_test[['Bedrooms_c_', \n",
    "                            'Full Flexibility',\n",
    "                            'Off-peak Flexibility',\n",
    "                            'Partial Flexibility',\n",
    "                            'Existing Owners',\n",
    "                            'Latitude_', \n",
    "                            'Longitude_']]\n",
    "target_cols = ['Total_OccuAvailDay_', \n",
    "               'Total_OccuAvailDaysOwner_', \n",
    "               'OccuAvailDays_Winter', \n",
    "               'OccuAvailDays_Mid', \n",
    "               'OccuAvailDays_Xmas', \n",
    "               'OccuAvailDays_Super Peak', \n",
    "               'OccuAvailDays_Peak', \n",
    "               'OccuAvailDays_Off Peak'\n",
    "              ]\n",
    "# Scaled features\n",
    "scaler = MinMaxScaler()\n",
    "X_train_scaled, X_test_scaled = scaler.fit_transform(X_train), scaler.fit_transform(X_test)\n",
    "for t in tqdm(target_cols):\n",
    "    y_train = pivot_season_rev_train[t].values\n",
    "    y_test = pivot_season_rev_test[t].values\n",
    "    for i in range(2,31):\n",
    "        neigh = KNeighborsRegressor(n_neighbors=i, algorithm='brute')\n",
    "        neigh.fit(X_train_scaled, y_train)\n",
    "        k_val.append(i)\n",
    "        score.append(neigh.score(X_test_scaled, y_test))\n",
    "        Y_pred = neigh.predict(X_test_scaled)\n",
    "        MSE = np.square(np.subtract(y_test,Y_pred)).mean()\n",
    "        mse.append(MSE)\n",
    "        target_col.append(t)\n",
    "results = pd.DataFrame(zip(target_col, k_val,score, mse), \n",
    "                       columns=['Target Col','K Value', 'Score', 'MSE'])\n",
    "fin_res = results.iloc[results.groupby('Target Col')['Score'].idxmax()]\n",
    "fin_res"
   ]
  },
  {
   "cell_type": "code",
   "execution_count": 28,
   "id": "d2b0fb35-d35c-4df7-a56d-f3cc440bbe48",
   "metadata": {},
   "outputs": [
    {
     "name": "stdout",
     "output_type": "stream",
     "text": [
      "21.974758723088346\n",
      "42.01930215293244\n",
      "59.391239792130655\n",
      "72.08611729769859\n",
      "82.92501855976244\n",
      "89.53229398663697\n",
      "99.03489235337788\n"
     ]
    }
   ],
   "source": [
    "# Error Magnitude test for actual vs predicted occupancy\n",
    "print((pivot_season_rev_test[(pivot_season_rev_test['error'] >-5) & \n",
    "                      (pivot_season_rev_test['error'] <5)].shape[0])\n",
    "      /pivot_season_rev_test.shape[0]*100)\n",
    "print((pivot_season_rev_test[(pivot_season_rev_test['error'] >-10) & \n",
    "                      (pivot_season_rev_test['error'] <10)].shape[0])\n",
    "      /pivot_season_rev_test.shape[0]*100)\n",
    "print((pivot_season_rev_test[(pivot_season_rev_test['error'] >-15) & \n",
    "                      (pivot_season_rev_test['error'] <15)].shape[0])\n",
    "      /pivot_season_rev_test.shape[0]*100)\n",
    "print((pivot_season_rev_test[(pivot_season_rev_test['error'] >-20) & \n",
    "                      (pivot_season_rev_test['error'] <20)].shape[0])\n",
    "      /pivot_season_rev_test.shape[0]*100)\n",
    "print((pivot_season_rev_test[(pivot_season_rev_test['error'] >-25) & \n",
    "                      (pivot_season_rev_test['error'] <25)].shape[0])\n",
    "      /pivot_season_rev_test.shape[0]*100)\n",
    "print((pivot_season_rev_test[(pivot_season_rev_test['error'] >-30) & \n",
    "                      (pivot_season_rev_test['error'] <30)].shape[0])\n",
    "      /pivot_season_rev_test.shape[0]*100)\n",
    "print((pivot_season_rev_test[(pivot_season_rev_test['error'] >-50) & \n",
    "                      (pivot_season_rev_test['error'] <50)].shape[0])\n",
    "      /pivot_season_rev_test.shape[0]*100)"
   ]
  },
  {
   "cell_type": "markdown",
   "id": "6d2a2f0b-d9b6-4d5f-ad1d-b0c9fc32adab",
   "metadata": {},
   "source": [
    "## How do the new the features fare in the model\n",
    "\n",
    "- Retrain the KNN model on the same train set as the model and the ones that don't map across. As we won't be using these to test the model"
   ]
  },
  {
   "cell_type": "code",
   "execution_count": 91,
   "id": "cc622c3e-4331-4155-aa39-163e1252a1d2",
   "metadata": {},
   "outputs": [],
   "source": [
    "t = pd.read_csv('/Users/elizabethkneale/projects/New_NRP/NRP_2.1/supply_demand/final_supply_demand/train_nrp_2023_06_01.csv')"
   ]
  },
  {
   "cell_type": "code",
   "execution_count": 30,
   "id": "52eb4c47-6d5a-4433-83bc-0b0f69936e93",
   "metadata": {},
   "outputs": [],
   "source": [
    "pivot_season_rev['OccuAvailDays_Xmas'].fillna(pivot_season_rev['OccuAvailDays_Xmas'].mean(),inplace=True)\n",
    "dummy_obt = pd.get_dummies(pivot_season_rev['OwnerBookingTier_'])\n",
    "pivot_season_rev = pd.concat([pivot_season_rev, dummy_obt],axis=1)\n",
    "occup_feat_train0 = pivot_season_rev[['PropertyReference_',\n",
    "                  'Bedrooms_c_',\n",
    "                  'Full Flexibility',\n",
    "                  'Off-peak Flexibility',\n",
    "                   'Partial Flexibility',\n",
    "                   'Existing Owners',\n",
    "                  'Latitude_',\n",
    "                  'Longitude_',\n",
    "                  'OccuAvailDays_Mid', \n",
    "                  'OccuAvailDays_Off Peak',\n",
    "                  'OccuAvailDays_Peak',\n",
    "                  'OccuAvailDays_Super Peak', \n",
    "                  'OccuAvailDays_Winter',\n",
    "                  'OccuAvailDays_Xmas',\n",
    "                  'Total_OccuAvailDaysOwner_',\n",
    "                  'Total_OccuAvailDay_', 'groups', 'TrainLabel']]\n",
    "test_set = pd.read_csv('/Users/elizabethkneale/projects/New_NRP/NRP_2.1/Mixed Linear Effects Example/OldTargetData /test_rolling_12_2023_06_01.csv')\n",
    "occup_feat_test0 = pivot_season_rev.merge(test_set,\n",
    "                                         how='inner',\n",
    "                                         left_on='PropertyReference_',\n",
    "                                         right_on='PropertyReference')"
   ]
  },
  {
   "cell_type": "code",
   "execution_count": 31,
   "id": "1c62107c-42c5-43e7-8f72-552a36b1faac",
   "metadata": {},
   "outputs": [],
   "source": [
    "# Train the KNN on the train sample and test on the test sample that aren't in the train sample\n",
    "extra= list(set(occup_feat_train0.PropertyReference_.tolist()) - set(occup_feat_test0.PropertyReference_.tolist()))\n",
    "\n"
   ]
  },
  {
   "cell_type": "markdown",
   "id": "a2a50d83-82a4-4d20-a3b1-84b3bad414a6",
   "metadata": {},
   "source": [
    "_________________________________________________________________________________"
   ]
  },
  {
   "cell_type": "markdown",
   "id": "1b4dd045-6b32-4ed4-a70c-6eb56be9af03",
   "metadata": {},
   "source": [
    "### Train the KNN model on the training set and the unused sample\n",
    "\n",
    "- Split this into a train and validation set and use unused set, to see how well it can predict revenue\n",
    "- Use the brute algorithm "
   ]
  },
  {
   "cell_type": "code",
   "execution_count": 32,
   "id": "21491ebf-68c4-43a5-97aa-82509cff71b7",
   "metadata": {},
   "outputs": [],
   "source": [
    "# Train and unused sample, to train the model on \n",
    "knn_df = occup_feat_train0[~occup_feat_train0['PropertyReference_'].isin(extra)]\n",
    "knn_X_test = knn_df.sample(random_state=4, frac=0.20)\n",
    "knn_X_train = knn_df[~knn_df.index.isin(knn_X_test.index.tolist())]\n",
    "knn_val = occup_feat_train0[occup_feat_train0['PropertyReference_'].isin(extra)]"
   ]
  },
  {
   "cell_type": "code",
   "execution_count": 33,
   "id": "27a2984a-2a5d-4401-bb6d-4793afb61bf5",
   "metadata": {},
   "outputs": [
    {
     "name": "stderr",
     "output_type": "stream",
     "text": [
      "100%|█████████████████████████████████████████████| 8/8 [00:13<00:00,  1.67s/it]\n"
     ]
    },
    {
     "data": {
      "text/html": [
       "<div>\n",
       "<style scoped>\n",
       "    .dataframe tbody tr th:only-of-type {\n",
       "        vertical-align: middle;\n",
       "    }\n",
       "\n",
       "    .dataframe tbody tr th {\n",
       "        vertical-align: top;\n",
       "    }\n",
       "\n",
       "    .dataframe thead th {\n",
       "        text-align: right;\n",
       "    }\n",
       "</style>\n",
       "<table border=\"1\" class=\"dataframe\">\n",
       "  <thead>\n",
       "    <tr style=\"text-align: right;\">\n",
       "      <th></th>\n",
       "      <th>Target Col</th>\n",
       "      <th>K Value</th>\n",
       "      <th>Score</th>\n",
       "      <th>MSE</th>\n",
       "      <th>Model</th>\n",
       "    </tr>\n",
       "  </thead>\n",
       "  <tbody>\n",
       "    <tr>\n",
       "      <th>111</th>\n",
       "      <td>OccuAvailDays_Mid</td>\n",
       "      <td>26</td>\n",
       "      <td>0.245403</td>\n",
       "      <td>412.121179</td>\n",
       "      <td>KNeighborsRegressor(algorithm='brute', n_neigh...</td>\n",
       "    </tr>\n",
       "    <tr>\n",
       "      <th>231</th>\n",
       "      <td>OccuAvailDays_Off Peak</td>\n",
       "      <td>30</td>\n",
       "      <td>0.145620</td>\n",
       "      <td>556.031235</td>\n",
       "      <td>KNeighborsRegressor(algorithm='brute', n_neigh...</td>\n",
       "    </tr>\n",
       "    <tr>\n",
       "      <th>197</th>\n",
       "      <td>OccuAvailDays_Peak</td>\n",
       "      <td>25</td>\n",
       "      <td>0.246202</td>\n",
       "      <td>399.630348</td>\n",
       "      <td>KNeighborsRegressor(algorithm='brute', n_neigh...</td>\n",
       "    </tr>\n",
       "    <tr>\n",
       "      <th>169</th>\n",
       "      <td>OccuAvailDays_Super Peak</td>\n",
       "      <td>26</td>\n",
       "      <td>0.160654</td>\n",
       "      <td>542.356301</td>\n",
       "      <td>KNeighborsRegressor(algorithm='brute', n_neigh...</td>\n",
       "    </tr>\n",
       "    <tr>\n",
       "      <th>85</th>\n",
       "      <td>OccuAvailDays_Winter</td>\n",
       "      <td>29</td>\n",
       "      <td>0.184463</td>\n",
       "      <td>444.586064</td>\n",
       "      <td>KNeighborsRegressor(algorithm='brute', n_neigh...</td>\n",
       "    </tr>\n",
       "    <tr>\n",
       "      <th>144</th>\n",
       "      <td>OccuAvailDays_Xmas</td>\n",
       "      <td>30</td>\n",
       "      <td>0.122198</td>\n",
       "      <td>1083.927969</td>\n",
       "      <td>KNeighborsRegressor(algorithm='brute', n_neigh...</td>\n",
       "    </tr>\n",
       "    <tr>\n",
       "      <th>14</th>\n",
       "      <td>Total_OccuAvailDay_</td>\n",
       "      <td>16</td>\n",
       "      <td>0.130212</td>\n",
       "      <td>252.692738</td>\n",
       "      <td>KNeighborsRegressor(algorithm='brute', n_neigh...</td>\n",
       "    </tr>\n",
       "    <tr>\n",
       "      <th>53</th>\n",
       "      <td>Total_OccuAvailDaysOwner_</td>\n",
       "      <td>26</td>\n",
       "      <td>0.267903</td>\n",
       "      <td>251.006874</td>\n",
       "      <td>KNeighborsRegressor(algorithm='brute', n_neigh...</td>\n",
       "    </tr>\n",
       "  </tbody>\n",
       "</table>\n",
       "</div>"
      ],
      "text/plain": [
       "                    Target Col  K Value     Score          MSE  \\\n",
       "111          OccuAvailDays_Mid       26  0.245403   412.121179   \n",
       "231     OccuAvailDays_Off Peak       30  0.145620   556.031235   \n",
       "197         OccuAvailDays_Peak       25  0.246202   399.630348   \n",
       "169   OccuAvailDays_Super Peak       26  0.160654   542.356301   \n",
       "85        OccuAvailDays_Winter       29  0.184463   444.586064   \n",
       "144         OccuAvailDays_Xmas       30  0.122198  1083.927969   \n",
       "14         Total_OccuAvailDay_       16  0.130212   252.692738   \n",
       "53   Total_OccuAvailDaysOwner_       26  0.267903   251.006874   \n",
       "\n",
       "                                                 Model  \n",
       "111  KNeighborsRegressor(algorithm='brute', n_neigh...  \n",
       "231  KNeighborsRegressor(algorithm='brute', n_neigh...  \n",
       "197  KNeighborsRegressor(algorithm='brute', n_neigh...  \n",
       "169  KNeighborsRegressor(algorithm='brute', n_neigh...  \n",
       "85   KNeighborsRegressor(algorithm='brute', n_neigh...  \n",
       "144  KNeighborsRegressor(algorithm='brute', n_neigh...  \n",
       "14   KNeighborsRegressor(algorithm='brute', n_neigh...  \n",
       "53   KNeighborsRegressor(algorithm='brute', n_neigh...  "
      ]
     },
     "execution_count": 33,
     "metadata": {},
     "output_type": "execute_result"
    }
   ],
   "source": [
    "# Whats the optimum value of k for the different targets\n",
    "from sklearn.neighbors import KNeighborsRegressor, kneighbors_graph\n",
    "import scikitplot as skplt\n",
    "\n",
    "k_val =[]\n",
    "score = []\n",
    "mse=[]\n",
    "target_col = []\n",
    "model_list =[]\n",
    "\n",
    "knn_cols = ['Full Flexibility',\n",
    "            'Off-peak Flexibility',\n",
    "            'Partial Flexibility',\n",
    "            'Existing Owners',\n",
    "            'Bedrooms_c_',\n",
    "            'Latitude_',\n",
    "            'Longitude_']\n",
    "\n",
    "target_cols = ['Total_OccuAvailDay_', \n",
    "               'Total_OccuAvailDaysOwner_', \n",
    "               'OccuAvailDays_Winter', \n",
    "               'OccuAvailDays_Mid', \n",
    "               'OccuAvailDays_Xmas', \n",
    "               'OccuAvailDays_Super Peak', \n",
    "               'OccuAvailDays_Peak', \n",
    "               'OccuAvailDays_Off Peak'\n",
    "              ]\n",
    "scaler = MinMaxScaler()\n",
    "knn_X_train_scaled, knn_X_test_scaled = scaler.fit_transform(knn_X_train[knn_cols]), scaler.fit_transform(knn_X_test[knn_cols])\n",
    "for t in tqdm(target_cols):\n",
    "    knn_y_train, knn_y_test = knn_X_train[t].values, knn_X_test[t].values\n",
    "    for i in range(2,31):\n",
    "        neigh = KNeighborsRegressor(n_neighbors=i, algorithm='brute') #brute because the model isn't that big so training won't take too long\n",
    "        neigh.fit(knn_X_train_scaled, knn_y_train)\n",
    "        k_val.append(i)\n",
    "        score.append(neigh.score(knn_X_test_scaled, knn_y_test))\n",
    "        Y_pred = neigh.predict(knn_X_test_scaled)\n",
    "        MSE = np.square(np.subtract(knn_y_test,Y_pred)).mean()\n",
    "        mse.append(MSE)\n",
    "        target_col.append(t)\n",
    "        model_list.append(neigh)\n",
    "results = pd.DataFrame(zip(target_col, k_val,score, mse, model_list), \n",
    "                       columns=['Target Col','K Value', \n",
    "                                'Score', 'MSE', 'Model'])\n",
    "fin_res = results.iloc[results.groupby('Target Col')['Score'].idxmax()]\n",
    "fin_res"
   ]
  },
  {
   "cell_type": "markdown",
   "id": "32e74020-d858-48f7-899b-391a8840f0a1",
   "metadata": {},
   "source": [
    "## Create the KNN values to add to the test set \n",
    "\n",
    "- To compare against actual test set values on how well they predict revenue "
   ]
  },
  {
   "cell_type": "markdown",
   "id": "32318609-c7fe-4c27-b17d-dc019553b23e",
   "metadata": {},
   "source": [
    "For each target see which performs better the actual occupancy or the predicted for each"
   ]
  },
  {
   "cell_type": "markdown",
   "id": "19d09a06-2b32-4b27-9720-d9317aa727eb",
   "metadata": {},
   "source": [
    "### Catboost"
   ]
  },
  {
   "cell_type": "code",
   "execution_count": 34,
   "id": "cf8742de-64d2-4770-8b03-a337a0403e6c",
   "metadata": {},
   "outputs": [],
   "source": [
    "from tqdm import tqdm\n",
    "import catboost as ctb"
   ]
  },
  {
   "cell_type": "code",
   "execution_count": 35,
   "id": "88a5b083-0ab1-4ed9-b96e-d14ac9ec2ebe",
   "metadata": {},
   "outputs": [],
   "source": [
    "def smape(a, f):\n",
    "    return 1/len(a) * np.sum(2 * np.abs(f-a) / (np.abs(a) + np.abs(f))*100)"
   ]
  },
  {
   "cell_type": "code",
   "execution_count": 60,
   "id": "1647ea67-6dcd-4563-a576-09c8d8721034",
   "metadata": {},
   "outputs": [],
   "source": [
    "initial_cat_features = ['BrandID', 'AllowsPets', 'ChangeOverDay', \n",
    "                        'PropertyType', 'Rating', 'isHoneyPot', \n",
    "                        'LocationType', 'WorkingRegion', 'RevenueManagementOption', \n",
    "                        'hasBroadband', 'hasDishwasher', 'hasEnclosedGarden', \n",
    "                        'hasGames', 'hasGarden', 'hasHotTub', 'hasIndoorPool', \n",
    "                        'hasOffRoadParking', 'hasOpenFire','OwnerBookingTier', \n",
    "                        'hasShortBreaksAllowed', 'hasLastMinuteBreakAllowed', \n",
    "                        'OpenFireType', 'daily', 'owner_led_pricing', \n",
    "                        'ClusterLabel']\n",
    "\n",
    "initial_num_features = ['Bathrooms', 'Bedrooms','Sleeps',\n",
    "'CommissionRate','RelativePixels', 'Number_Pictures',\n",
    "'YearLastUpdate', 'HPOccupancy','WorkingRegionOccupancy', \n",
    "'BedsOccupancy', 'PeakAsAtOwnerBooking','MidAsAtOwnerBooking', \n",
    "'OffPeakAsAtOwnerBooking','SuperPeakAsAtOwnerBooking', \n",
    "'WinterAsAtOwnerBooking','XmasAsAtOwnerBooking']\n",
    "\n",
    "original_features = ['BrandID', 'AllowsPets', 'ChangeOverDay', \n",
    "                        'PropertyType', 'Rating', 'isHoneyPot', \n",
    "                        'LocationType', 'WorkingRegion', 'RevenueManagementOption', \n",
    "                        'hasBroadband', 'hasDishwasher', 'hasEnclosedGarden', \n",
    "                        'hasGames', 'hasGarden', 'hasHotTub', 'hasIndoorPool', \n",
    "                        'hasOffRoadParking', 'hasOpenFire','OwnerBookingTier', \n",
    "                        'hasShortBreaksAllowed', 'hasLastMinuteBreakAllowed', \n",
    "                        'OpenFireType', 'daily', 'owner_led_pricing', \n",
    "                        'ClusterLabel', 'Bathrooms', 'Bedrooms','Sleeps',\n",
    "                     'CommissionRate','RelativePixels', 'Number_Pictures',\n",
    "                     'YearLastUpdate', 'HPOccupancy','WorkingRegionOccupancy', \n",
    "                     'BedsOccupancy', 'PeakAsAtOwnerBooking','MidAsAtOwnerBooking', \n",
    "                     'OffPeakAsAtOwnerBooking','SuperPeakAsAtOwnerBooking', \n",
    "                     'WinterAsAtOwnerBooking','XmasAsAtOwnerBooking']\n",
    "\n",
    "\n",
    "\n",
    "candidate_variables = ['Total_OccuAvailDaysOwner_', 'Total_OccuAvailDay_', \n",
    "                        'groups',['OccuAvailDays_Mid', 'OccuAvailDays_Off Peak', \n",
    "                                     'OccuAvailDays_Peak', 'OccuAvailDays_Super Peak',\n",
    "                                     'OccuAvailDays_Winter', 'OccuAvailDays_Xmas']]\n",
    "\n",
    "                    \n",
    "# Train and unused sample, to train the model on \n",
    "occup_feat_test0 = occup_feat_test0.rename(columns={'TrainLabel':'Target'})\n",
    "catboost_X_test = occup_feat_test0.sample(random_state=4, frac=0.20)\n",
    "catboost_X_train =  occup_feat_test0[~occup_feat_test0.index.isin(catboost_X_test.index.tolist())]\n",
    "catboost_val = pivot_season_rev[pivot_season_rev['PropertyReference_'].isin(extra)]\n",
    "catboost_val = catboost_val.rename(columns={'TrainLabel':'Target'})\n",
    "catboost_X_train.head()"
   ]
  },
  {
   "cell_type": "code",
   "execution_count": 72,
   "id": "6dc21e1f-a4b7-4566-a1b7-1efb6d3fad8b",
   "metadata": {},
   "outputs": [],
   "source": [
    "catboost_X_train.columns = catboost_X_train.columns.str.rstrip('_')\n",
    "catboost_X_test.columns = catboost_X_test.columns.str.rstrip('_')"
   ]
  },
  {
   "cell_type": "code",
   "execution_count": null,
   "id": "ae12c7de-01ec-407f-821e-2711648e4eb7",
   "metadata": {},
   "outputs": [],
   "source": [
    "def occupancy_vars_test1(train, \n",
    "                        test,\n",
    "                        exp_desc):\n",
    "    \n",
    "    SMAPE = []\n",
    "    X_train, y_train = train[initial_num_features \n",
    "                                         + initial_cat_features],train['Target'].values\n",
    "    \n",
    "    \n",
    "    model_params = {'iterations':1600} \n",
    "    model = ctb.CatBoostRegressor(**model_params)\n",
    "    model.fit(X=X_train, \n",
    "          y=y_train, \n",
    "          cat_features=initial_cat_features,\n",
    "         verbose=False\n",
    "          #,plot=True)\n",
    "         )\n",
    "    \n",
    "    X_test, y_test = test[initial_num_features \n",
    "                                            +initial_cat_features], test['Target'].values\n",
    "        \n",
    "    expected  = y_test\n",
    "    predicted = model.predict(X_test)\n",
    "    #print(metrics.r2_score(expected, predicted))\n",
    "    #print(metrics.mean_squared_log_error(expected, predicted))\n",
    "    SMAPE.append(smape(a=expected, f=predicted))\n",
    "    res = pd.DataFrame(np.array(SMAPE).reshape(-1,len(SMAPE))\n",
    "                       ,columns=['Year 1 sMAPE', 'Year 2 sMAPE']\n",
    "                       ,index=[exp_desc])\n",
    "    \n",
    "    return res"
   ]
  },
  {
   "cell_type": "code",
   "execution_count": null,
   "id": "1c076440-aa52-4dae-b8dd-ebe0e6384975",
   "metadata": {},
   "outputs": [],
   "source": [
    "# Drop values in list if not in i or others \n",
    "num_tar = []\n",
    "t = occupancy_vars_test1(train=catboost_X_train, \n",
    "                test=catboost_X_test, \n",
    "                exp_desc='No Extra Variables')"
   ]
  },
  {
   "cell_type": "code",
   "execution_count": null,
   "id": "6e16b590-1aca-41e1-98a4-8bc14f00075b",
   "metadata": {},
   "outputs": [],
   "source": [
    "# Drop values in list if not in i or others \n",
    "num_tar = []\n",
    "t = occupancy_vars_test1(train=catboost_X_train, \n",
    "                test=catboost_X_test, \n",
    "                exp_desc='No Extra Variables')\n",
    "#print(t)\n",
    "for i in tqdm(candidate_variables):\n",
    "    if i == 'groups':\n",
    "        initial_cat_features.append(i)\n",
    "        a=occupancy_vars_test1(train=catboost_X_train, \n",
    "                test=catboost_X_test, \n",
    "                exp_desc=f\"Add {i}\")\n",
    "        initial_cat_features = [x for x in initial_cat_features if x in original_features]\n",
    "        \n",
    "        #print(a)\n",
    "    elif isinstance(i, list):\n",
    "        for item in i:\n",
    "            initial_num_features.append(item)\n",
    "        b=occupancy_vars_test1(train=catboost_X_train, \n",
    "                               test=catboost_X_test, \n",
    "                               exp_desc=f\"Add {i}\")\n",
    "        initial_num_features = [x for x in initial_num_features if x in original_features]\n",
    "        #print(b)\n",
    "    else:\n",
    "        initial_num_features.append(i)\n",
    "        c=occupancy_vars_test1(train=catboost_X_train, \n",
    "                                test=catboost_X_test, \n",
    "                                exp_desc=f\"Add {i}\")\n",
    "        num_tar.append(c)\n",
    "        initial_num_features = [x for x in initial_num_features if x in original_features]\n",
    "\n",
    "final=pd.concat([t,a,b,pd.concat([num_tar[0], num_tar[1]])])\n",
    "final"
   ]
  },
  {
   "cell_type": "markdown",
   "id": "eb9dc008-6968-4ae4-b96b-b82bdead538b",
   "metadata": {},
   "source": [
    "## Model with the predicted values to see how well works"
   ]
  },
  {
   "cell_type": "code",
   "execution_count": 401,
   "id": "a958faf7-19e0-40cd-875c-14a61633b113",
   "metadata": {},
   "outputs": [],
   "source": [
    "#Use the KNN model to predict \n",
    "occup_feat_test0_y1knn_pred =  occup_feat_test0_y1.copy()\n",
    "occup_feat_test0_y2knn_pred =  occup_feat_test0_y2.copy()\n",
    "for i in range(len(fin_res)):\n",
    "    year1_pred = fin_res.iloc[i,-1].predict(occup_feat_test0_y1knn_pred[knn_cols])\n",
    "    year2_pred = fin_res.iloc[i,-1].predict(occup_feat_test0_y2knn_pred[knn_cols])\n",
    "    occup_feat_test0_y1knn_pred[f\"{fin_res.iloc[i,0]}_knn_predict\"] = year1_pred\n",
    "    occup_feat_test0_y2knn_pred[f\"{fin_res.iloc[i,0]}_knn_predict\"] = year2_pred\n",
    "\n",
    "#Drop the original values\n",
    "cols_to_drop = ['OccuAvailDays_Mid', 'OccuAvailDays_Off Peak', 'OccuAvailDays_Peak',\n",
    "       'OccuAvailDays_Super Peak', 'OccuAvailDays_Winter',\n",
    "       'OccuAvailDays_Xmas', 'Total_OccuAvailDaysOwner', 'Total_OccuAvailDays']\n",
    "occup_feat_test0_y1knn_pred1 = occup_feat_test0_y1knn_pred.drop(columns=cols_to_drop)\n",
    "occup_feat_test0_y2knn_pred1 = occup_feat_test0_y2knn_pred.drop(columns=cols_to_drop)"
   ]
  },
  {
   "cell_type": "code",
   "execution_count": 403,
   "id": "20feb452-0fbd-4d08-b255-504e16cf5e3c",
   "metadata": {},
   "outputs": [],
   "source": [
    "# Switch the names back to \n",
    "col_names = {'OccuAvailDays_Mid_knn_predict':'OccuAvailDays_Mid', \n",
    " 'OccuAvailDays_Off Peak_knn_predict':'OccuAvailDays_Off Peak', \n",
    " 'OccuAvailDays_Peak_knn_predict':'OccuAvailDays_Peak',\n",
    "  'OccuAvailDays_Super Peak_knn_predict':'OccuAvailDays_Super Peak',\n",
    " 'OccuAvailDays_Winter_knn_predict': 'OccuAvailDays_Winter',\n",
    " 'OccuAvailDays_Xmas_knn_predict':'OccuAvailDays_Xmas', \n",
    " 'Total_OccuAvailDaysOwner_knn_predict':'Total_OccuAvailDaysOwner',\n",
    " 'Total_OccuAvailDays_knn_predict':'Total_OccuAvailDays', \n",
    " #'TrainLabel': 'Target',\n",
    " #'TestLabel': 'Target'\n",
    "            }\n",
    "occup_feat_test0_y1knn_pred1.rename(col_names,axis='columns', inplace=True)\n",
    "occup_feat_test0_y2knn_pred1.rename(col_names, axis='columns',inplace=True)"
   ]
  },
  {
   "cell_type": "code",
   "execution_count": 404,
   "id": "41a1fd76-af6d-4e06-a734-56a279ceecef",
   "metadata": {},
   "outputs": [
    {
     "name": "stderr",
     "output_type": "stream",
     "text": [
      "100%|█████████████████████████████████████████████| 4/4 [00:31<00:00,  7.98s/it]\n"
     ]
    },
    {
     "data": {
      "text/html": [
       "<div>\n",
       "<style scoped>\n",
       "    .dataframe tbody tr th:only-of-type {\n",
       "        vertical-align: middle;\n",
       "    }\n",
       "\n",
       "    .dataframe tbody tr th {\n",
       "        vertical-align: top;\n",
       "    }\n",
       "\n",
       "    .dataframe thead th {\n",
       "        text-align: right;\n",
       "    }\n",
       "</style>\n",
       "<table border=\"1\" class=\"dataframe\">\n",
       "  <thead>\n",
       "    <tr style=\"text-align: right;\">\n",
       "      <th></th>\n",
       "      <th>Year 1 sMAPE</th>\n",
       "      <th>Year 2 sMAPE</th>\n",
       "    </tr>\n",
       "  </thead>\n",
       "  <tbody>\n",
       "    <tr>\n",
       "      <th>No Extra Variables</th>\n",
       "      <td>14.930128</td>\n",
       "      <td>24.455824</td>\n",
       "    </tr>\n",
       "    <tr>\n",
       "      <th>Add KNN inferred values groups</th>\n",
       "      <td>12.586001</td>\n",
       "      <td>21.488959</td>\n",
       "    </tr>\n",
       "    <tr>\n",
       "      <th>Add KNN inferred values ['OccuAvailDays_Mid', 'OccuAvailDays_Off Peak', 'OccuAvailDays_Peak', 'OccuAvailDays_Super Peak', 'OccuAvailDays_Winter', 'OccuAvailDays_Xmas']</th>\n",
       "      <td>21.019101</td>\n",
       "      <td>29.308980</td>\n",
       "    </tr>\n",
       "    <tr>\n",
       "      <th>Add KNN inferred values Total_OccuAvailDaysOwner</th>\n",
       "      <td>19.886381</td>\n",
       "      <td>28.958654</td>\n",
       "    </tr>\n",
       "    <tr>\n",
       "      <th>Add KNN inferred values Total_OccuAvailDays</th>\n",
       "      <td>16.058739</td>\n",
       "      <td>25.160042</td>\n",
       "    </tr>\n",
       "  </tbody>\n",
       "</table>\n",
       "</div>"
      ],
      "text/plain": [
       "                                                    Year 1 sMAPE  Year 2 sMAPE\n",
       "No Extra Variables                                     14.930128     24.455824\n",
       "Add KNN inferred values groups                         12.586001     21.488959\n",
       "Add KNN inferred values ['OccuAvailDays_Mid', '...     21.019101     29.308980\n",
       "Add KNN inferred values Total_OccuAvailDaysOwner       19.886381     28.958654\n",
       "Add KNN inferred values Total_OccuAvailDays            16.058739     25.160042"
      ]
     },
     "execution_count": 404,
     "metadata": {},
     "output_type": "execute_result"
    }
   ],
   "source": [
    "num_tar =[]\n",
    "t = occupancy_vars_test1(train=occup_feat_train0, \n",
    "                test_y1=occup_feat_test0_y1knn_pred1, \n",
    "                test_y2=occup_feat_test0_y2knn_pred1,\n",
    "                exp_desc='No Extra Variables')\n",
    "#print(t)\n",
    "for i in tqdm(candidate_variables):\n",
    "    if i == 'groups':\n",
    "        initial_cat_features.append(i)\n",
    "        a=occupancy_vars_test1(train=occup_feat_train0, \n",
    "                test_y1=occup_feat_test0_y1knn_pred1, \n",
    "                test_y2=occup_feat_test0_y2knn_pred1, \n",
    "                exp_desc=f\"Add KNN inferred values {i}\")\n",
    "        initial_cat_features = [x for x in initial_cat_features if x in original_features]\n",
    "        \n",
    "        #print(a)\n",
    "    elif isinstance(i, list):\n",
    "        for item in i:\n",
    "            initial_num_features.append(item)\n",
    "        b=occupancy_vars_test1(train=occup_feat_train0, \n",
    "                               test_y1=occup_feat_test0_y1knn_pred1, \n",
    "                               test_y2=occup_feat_test0_y2knn_pred1, \n",
    "                               exp_desc=f\"Add KNN inferred values {i}\")\n",
    "        initial_num_features = [x for x in initial_num_features if x in original_features]\n",
    "        #print(b)\n",
    "    else:\n",
    "        initial_num_features.append(i)\n",
    "        c=occupancy_vars_test1(train=occup_feat_train0, \n",
    "                                test_y1=occup_feat_test0_y1knn_pred1, \n",
    "                                test_y2=occup_feat_test0_y2knn_pred1, \n",
    "                                exp_desc=f\"Add KNN inferred values {i}\")\n",
    "        #print(c)\n",
    "        num_tar.append(c)\n",
    "        initial_num_features = [x for x in initial_num_features if x in original_features]\n",
    "\n",
    "        \n",
    "final2 = pd.concat([t,a,b, pd.concat([num_tar[0], num_tar[1]])])"
   ]
  },
  {
   "cell_type": "markdown",
   "id": "da4722a2-0bd0-48da-a908-f22b2e6580cc",
   "metadata": {},
   "source": [
    "## Merge the trained actual value results with the trained knn values "
   ]
  },
  {
   "cell_type": "code",
   "execution_count": 410,
   "id": "40b40245-c3e9-4b07-8557-72a2b2c83b80",
   "metadata": {},
   "outputs": [
    {
     "data": {
      "text/html": [
       "<div>\n",
       "<style scoped>\n",
       "    .dataframe tbody tr th:only-of-type {\n",
       "        vertical-align: middle;\n",
       "    }\n",
       "\n",
       "    .dataframe tbody tr th {\n",
       "        vertical-align: top;\n",
       "    }\n",
       "\n",
       "    .dataframe thead th {\n",
       "        text-align: right;\n",
       "    }\n",
       "</style>\n",
       "<table border=\"1\" class=\"dataframe\">\n",
       "  <thead>\n",
       "    <tr style=\"text-align: right;\">\n",
       "      <th></th>\n",
       "      <th>index</th>\n",
       "      <th>Year 1 sMAPE</th>\n",
       "      <th>Year 2 sMAPE</th>\n",
       "      <th>index</th>\n",
       "      <th>Year 1 sMAPE</th>\n",
       "      <th>Year 2 sMAPE</th>\n",
       "    </tr>\n",
       "  </thead>\n",
       "  <tbody>\n",
       "    <tr>\n",
       "      <th>0</th>\n",
       "      <td>No Extra Variables</td>\n",
       "      <td>14.930128</td>\n",
       "      <td>24.455824</td>\n",
       "      <td>No Extra Variables</td>\n",
       "      <td>14.930128</td>\n",
       "      <td>24.455824</td>\n",
       "    </tr>\n",
       "    <tr>\n",
       "      <th>1</th>\n",
       "      <td>Add groups</td>\n",
       "      <td>12.586001</td>\n",
       "      <td>21.488959</td>\n",
       "      <td>Add KNN inferred values groups</td>\n",
       "      <td>12.586001</td>\n",
       "      <td>21.488959</td>\n",
       "    </tr>\n",
       "    <tr>\n",
       "      <th>2</th>\n",
       "      <td>Add ['OccuAvailDays_Mid', 'OccuAvailDays_Off P...</td>\n",
       "      <td>10.456880</td>\n",
       "      <td>20.472105</td>\n",
       "      <td>Add KNN inferred values ['OccuAvailDays_Mid', ...</td>\n",
       "      <td>21.019101</td>\n",
       "      <td>29.308980</td>\n",
       "    </tr>\n",
       "    <tr>\n",
       "      <th>3</th>\n",
       "      <td>Add Total_OccuAvailDaysOwner</td>\n",
       "      <td>10.441608</td>\n",
       "      <td>20.539750</td>\n",
       "      <td>Add KNN inferred values Total_OccuAvailDaysOwner</td>\n",
       "      <td>19.886381</td>\n",
       "      <td>28.958654</td>\n",
       "    </tr>\n",
       "    <tr>\n",
       "      <th>4</th>\n",
       "      <td>Add Total_OccuAvailDays</td>\n",
       "      <td>12.343565</td>\n",
       "      <td>20.654921</td>\n",
       "      <td>Add KNN inferred values Total_OccuAvailDays</td>\n",
       "      <td>16.058739</td>\n",
       "      <td>25.160042</td>\n",
       "    </tr>\n",
       "  </tbody>\n",
       "</table>\n",
       "</div>"
      ],
      "text/plain": [
       "                                               index  Year 1 sMAPE  \\\n",
       "0                                 No Extra Variables     14.930128   \n",
       "1                                         Add groups     12.586001   \n",
       "2  Add ['OccuAvailDays_Mid', 'OccuAvailDays_Off P...     10.456880   \n",
       "3                       Add Total_OccuAvailDaysOwner     10.441608   \n",
       "4                            Add Total_OccuAvailDays     12.343565   \n",
       "\n",
       "   Year 2 sMAPE                                              index  \\\n",
       "0     24.455824                                 No Extra Variables   \n",
       "1     21.488959                     Add KNN inferred values groups   \n",
       "2     20.472105  Add KNN inferred values ['OccuAvailDays_Mid', ...   \n",
       "3     20.539750   Add KNN inferred values Total_OccuAvailDaysOwner   \n",
       "4     20.654921        Add KNN inferred values Total_OccuAvailDays   \n",
       "\n",
       "   Year 1 sMAPE  Year 2 sMAPE  \n",
       "0     14.930128     24.455824  \n",
       "1     12.586001     21.488959  \n",
       "2     21.019101     29.308980  \n",
       "3     19.886381     28.958654  \n",
       "4     16.058739     25.160042  "
      ]
     },
     "execution_count": 410,
     "metadata": {},
     "output_type": "execute_result"
    }
   ],
   "source": [
    "pd.concat([final.reset_index(),final2.reset_index()], axis=1)"
   ]
  },
  {
   "cell_type": "markdown",
   "id": "5cb9bd7b-747f-4c92-bc2c-fc43c4ae1aea",
   "metadata": {},
   "source": [
    "______________________________________________________________________________"
   ]
  }
 ],
 "metadata": {
  "kernelspec": {
   "display_name": "Python 3 (ipykernel)",
   "language": "python",
   "name": "python3"
  },
  "language_info": {
   "codemirror_mode": {
    "name": "ipython",
    "version": 3
   },
   "file_extension": ".py",
   "mimetype": "text/x-python",
   "name": "python",
   "nbconvert_exporter": "python",
   "pygments_lexer": "ipython3",
   "version": "3.9.7"
  }
 },
 "nbformat": 4,
 "nbformat_minor": 5
}
